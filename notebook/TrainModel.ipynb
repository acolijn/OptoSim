{
 "cells": [
  {
   "cell_type": "code",
   "execution_count": 1,
   "metadata": {},
   "outputs": [],
   "source": [
    "# For autoreloading the classes so you do not need to restart the kernel\n",
    "%load_ext autoreload\n",
    "%autoreload 2"
   ]
  },
  {
   "cell_type": "code",
   "execution_count": 3,
   "metadata": {},
   "outputs": [],
   "source": [
    "# Importing the libraries\n",
    "import glob\n",
    "import numpy as np\n",
    "import matplotlib.pyplot as plt\n",
    "import os\n",
    "import sys\n",
    "sys.path.append(os.path.abspath(\"../python\"))\n",
    "\n",
    "from EventReader import EventReader\n",
    "from EventReader import show_data\n",
    "from Model import SuperResolutionModel\n",
    "from Model import create_datasets"
   ]
  },
  {
   "cell_type": "code",
   "execution_count": 9,
   "metadata": {},
   "outputs": [],
   "source": [
    "r = 2.5 # radius of the detector in cm"
   ]
  },
  {
   "cell_type": "code",
   "execution_count": 4,
   "metadata": {},
   "outputs": [
    {
     "data": {
      "text/html": [
       "<div>\n",
       "<style scoped>\n",
       "    .dataframe tbody tr th:only-of-type {\n",
       "        vertical-align: middle;\n",
       "    }\n",
       "\n",
       "    .dataframe tbody tr th {\n",
       "        vertical-align: top;\n",
       "    }\n",
       "\n",
       "    .dataframe thead th {\n",
       "        text-align: right;\n",
       "    }\n",
       "</style>\n",
       "<table border=\"1\" class=\"dataframe\">\n",
       "  <thead>\n",
       "    <tr style=\"text-align: right;\">\n",
       "      <th></th>\n",
       "      <th>subdir</th>\n",
       "      <th>detector</th>\n",
       "      <th>nevents</th>\n",
       "      <th>nphoton_per_event</th>\n",
       "      <th>set_no_scatter</th>\n",
       "      <th>set_experimental_scatter_model</th>\n",
       "      <th>radius</th>\n",
       "    </tr>\n",
       "  </thead>\n",
       "  <tbody>\n",
       "    <tr>\n",
       "      <th>0</th>\n",
       "      <td>mc0000</td>\n",
       "      <td>XAMS</td>\n",
       "      <td>1000</td>\n",
       "      <td>100000</td>\n",
       "      <td>False</td>\n",
       "      <td>True</td>\n",
       "      <td>3.2</td>\n",
       "    </tr>\n",
       "    <tr>\n",
       "      <th>1</th>\n",
       "      <td>mc0001</td>\n",
       "      <td>XAMS</td>\n",
       "      <td>10000</td>\n",
       "      <td>10000</td>\n",
       "      <td>False</td>\n",
       "      <td>True</td>\n",
       "      <td>3.2</td>\n",
       "    </tr>\n",
       "    <tr>\n",
       "      <th>2</th>\n",
       "      <td>mc0002</td>\n",
       "      <td>XAMS</td>\n",
       "      <td>10000</td>\n",
       "      <td>10000</td>\n",
       "      <td>True</td>\n",
       "      <td>True</td>\n",
       "      <td>3.2</td>\n",
       "    </tr>\n",
       "    <tr>\n",
       "      <th>3</th>\n",
       "      <td>mc0003</td>\n",
       "      <td>XAMS</td>\n",
       "      <td>10000</td>\n",
       "      <td>10000</td>\n",
       "      <td>False</td>\n",
       "      <td>False</td>\n",
       "      <td>3.2</td>\n",
       "    </tr>\n",
       "    <tr>\n",
       "      <th>4</th>\n",
       "      <td>mc0004</td>\n",
       "      <td>XAMS</td>\n",
       "      <td>10000</td>\n",
       "      <td>10000</td>\n",
       "      <td>False</td>\n",
       "      <td>True</td>\n",
       "      <td>3.2</td>\n",
       "    </tr>\n",
       "    <tr>\n",
       "      <th>5</th>\n",
       "      <td>mc0005</td>\n",
       "      <td>XAMS</td>\n",
       "      <td>10000</td>\n",
       "      <td>10000</td>\n",
       "      <td>True</td>\n",
       "      <td>True</td>\n",
       "      <td>3.2</td>\n",
       "    </tr>\n",
       "  </tbody>\n",
       "</table>\n",
       "</div>"
      ],
      "text/plain": [
       "   subdir detector  nevents  nphoton_per_event  set_no_scatter  \\\n",
       "0  mc0000     XAMS     1000             100000           False   \n",
       "1  mc0001     XAMS    10000              10000           False   \n",
       "2  mc0002     XAMS    10000              10000            True   \n",
       "3  mc0003     XAMS    10000              10000           False   \n",
       "4  mc0004     XAMS    10000              10000           False   \n",
       "5  mc0005     XAMS    10000              10000            True   \n",
       "\n",
       "   set_experimental_scatter_model  radius  \n",
       "0                            True     3.2  \n",
       "1                            True     3.2  \n",
       "2                            True     3.2  \n",
       "3                           False     3.2  \n",
       "4                            True     3.2  \n",
       "5                            True     3.2  "
      ]
     },
     "execution_count": 4,
     "metadata": {},
     "output_type": "execute_result"
    }
   ],
   "source": [
    "# show data in directory\n",
    "data_dir = '/mnt/c/Users/marjo/data/'\n",
    "show_data(data_dir)"
   ]
  },
  {
   "cell_type": "code",
   "execution_count": 5,
   "metadata": {},
   "outputs": [
    {
     "name": "stdout",
     "output_type": "stream",
     "text": [
      "number of files:  1\n"
     ]
    }
   ],
   "source": [
    "# read data\n",
    "files = glob.glob(data_dir + 'mc0001/*0000.hd5f')\n",
    "events = EventReader(files)"
   ]
  },
  {
   "cell_type": "code",
   "execution_count": 6,
   "metadata": {},
   "outputs": [
    {
     "name": "stdout",
     "output_type": "stream",
     "text": [
      "processed  0 events\n",
      "processed  1000 events\n",
      "processed  2000 events\n",
      "processed  3000 events\n",
      "processed  4000 events\n",
      "processed  5000 events\n",
      "processed  6000 events\n",
      "processed  7000 events\n",
      "processed  8000 events\n",
      "processed  9000 events\n",
      "processed  10000 events\n"
     ]
    }
   ],
   "source": [
    "# get the necessary information from the events\n",
    "n = 0\n",
    "nmax =10000 # if you do not want to loop over all events\n",
    "\n",
    "true_pos = []\n",
    "fine_top = []\n",
    "top = []\n",
    "\n",
    "for ev in events:\n",
    "    if n%1000 == 0:\n",
    "        print('processed ', n, 'events')\n",
    "    n+=1\n",
    "    \n",
    "    # retrieve the true hit position\n",
    "    truth = ev['true_position']\n",
    "    true_pos.append(truth)\n",
    "                    \n",
    "    # get the data from the top PMT    \n",
    "    pmt = ev['pmt_top'][()]\n",
    "    top.append(pmt.T)\n",
    "    fine_pmt = ev['fine_top'][()]\n",
    "    fine_top.append(fine_pmt.T)\n",
    "\n",
    "    if n>=nmax:\n",
    "        print('processed ', nmax, 'events')\n",
    "        break\n",
    "\n",
    "events.reset()"
   ]
  },
  {
   "cell_type": "code",
   "execution_count": 7,
   "metadata": {},
   "outputs": [
    {
     "name": "stdout",
     "output_type": "stream",
     "text": [
      "We have 10000 events\n",
      "low res PMT has shape (2, 2)\n",
      "high res truth has shape (20, 20)\n",
      "true positions have shape (3,)\n"
     ]
    }
   ],
   "source": [
    "print(f\"We have {len(top)} events\")\n",
    "print(f\"low res PMT has shape {top[0].shape}\")\n",
    "print(f\"high res truth has shape {fine_top[0].shape}\")\n",
    "print(f\"true positions have shape {true_pos[0].shape}\")"
   ]
  },
  {
   "cell_type": "code",
   "execution_count": 11,
   "metadata": {},
   "outputs": [
    {
     "data": {
      "image/png": "[encoded data removed]",
      "text/plain": [
       "<Figure size 720x288 with 1 Axes>"
      ]
     },
     "metadata": {
      "needs_background": "light"
     },
     "output_type": "display_data"
    }
   ],
   "source": [
    "# check if data is ok\n",
    "num = 1\n",
    "fig, ax = plt.subplots(1, 1, figsize=(10, 4))\n",
    "ax.imshow(\n",
    "    top[num], interpolation=\"nearest\", origin=\"lower\", extent=[-r, r, -r, r]\n",
    ")\n",
    "ax.imshow(\n",
    "    fine_top[num],\n",
    "    interpolation=\"nearest\",\n",
    "    origin=\"lower\",\n",
    "    extent=[-2.5, 2.5, -2.5, 2.5],\n",
    ")\n",
    "ax.plot(\n",
    "    true_pos[num][0],\n",
    "    true_pos[num][1],\n",
    "    marker=\"x\",\n",
    "    markersize=10,\n",
    "    color=\"red\",\n",
    "    label=\"true position\",\n",
    ")\n",
    "plt.xlabel(\"x (cm)\")\n",
    "plt.ylabel(\"y (cm)\")\n",
    "plt.show()"
   ]
  },
  {
   "cell_type": "code",
   "execution_count": null,
   "metadata": {},
   "outputs": [],
   "source": [
    "def downsample_heatmaps_to_dimensions(heatmaps, new_height, new_width):\n",
    "    \"\"\"\n",
    "    Downsample a list of heatmaps to specified dimensions using averaging.\n",
    "\n",
    "    Args:\n",
    "        heatmaps (list of numpy.ndarray): List of high-resolution heatmaps.\n",
    "        new_height (int): The desired height of the downsampled heatmaps.\n",
    "        new_width (int): The desired width of the downsampled heatmaps.\n",
    "\n",
    "    Returns:\n",
    "        list of numpy.ndarray: List of downsampled heatmaps.\n",
    "    \"\"\"\n",
    "    downsampled_heatmaps = []\n",
    "\n",
    "    for heatmap in heatmaps:\n",
    "        # Get the dimensions of the original heatmap\n",
    "        height, width = heatmap.shape\n",
    "\n",
    "        # Reshape the heatmap to a 4D tensor for pooling\n",
    "        heatmap_4d = heatmap.reshape((1, 1, height, width))\n",
    "\n",
    "        # Calculate the scale factors for downsampling\n",
    "        scale_factor_height = height // new_height\n",
    "        scale_factor_width = width // new_width\n",
    "\n",
    "        # Perform average pooling using np.mean\n",
    "        downsampled_heatmap_4d = np.mean(heatmap_4d.reshape((1, 1, new_height, scale_factor_height, new_width, scale_factor_width)), axis=(3, 5))\n",
    "\n",
    "        # Reshape the downsampled heatmap to the desired dimensions\n",
    "        downsampled_heatmap = downsampled_heatmap_4d.reshape((new_height, new_width))\n",
    "\n",
    "        downsampled_heatmaps.append(downsampled_heatmap)\n",
    "\n",
    "    return np.asarray(downsampled_heatmaps)"
   ]
  },
  {
   "cell_type": "code",
   "execution_count": 13,
   "metadata": {},
   "outputs": [],
   "source": [
    "# create train and test sets\n",
    "y = fine_top # downsample if wanted\n",
    "X = top\n",
    "pos = [pos[:2] for pos in true_pos] # depth is not used\n",
    "\n",
    "X_train, y_train, pos_train, X_test, y_test, pos_test = create_datasets(\n",
    "    X, y, pos, train_fraction=0.8\n",
    ")\n",
    "y_train_downsampled = downsample_heatmaps_to_dimensions(y_train, 5, 5)\n",
    "y_test_downsampled = downsample_heatmaps_to_dimensions(y_test, 5, 5)"
   ]
  },
  {
   "cell_type": "code",
   "execution_count": 14,
   "metadata": {},
   "outputs": [
    {
     "name": "stderr",
     "output_type": "stream",
     "text": [
      "/home/marjolein/.local/lib/python3.10/site-packages/sklearn/neural_network/_multilayer_perceptron.py:686: ConvergenceWarning: Stochastic Optimizer: Maximum iterations (200) reached and the optimization hasn't converged yet.\n",
      "  warnings.warn(\n"
     ]
    },
    {
     "data": {
      "image/png": "[encoded data removed]",
      "text/plain": [
       "<Figure size 720x360 with 1 Axes>"
      ]
     },
     "metadata": {
      "needs_background": "light"
     },
     "output_type": "display_data"
    }
   ],
   "source": [
    "model = SuperResolutionModel(low_to_high_res_net_params=\n",
    "    {\"hidden_layer_sizes\":(100,100),\n",
    "    \"activation\":\"relu\", \n",
    "    \"solver\":\"adam\", \n",
    "    \"alpha\":0.0001, \n",
    "    \"batch_size\":\"auto\", \n",
    "    \"learning_rate\":\"constant\", \n",
    "    \"learning_rate_init\":0.001, \n",
    "    \"power_t\":0.5, \n",
    "    \"max_iter\":200, \n",
    "    \"shuffle\":True, \n",
    "    \"random_state\":None, \n",
    "    \"tol\":1e-4, \n",
    "    \"verbose\":False, \n",
    "    \"warm_start\":False, \n",
    "    \"momentum\":0.9, \n",
    "    \"nesterovs_momentum\":True, \n",
    "    \"early_stopping\":True, \n",
    "    \"validation_fraction\":0.1, \n",
    "    \"beta_1\":0.9, \n",
    "    \"beta_2\":0.999, \n",
    "    \"epsilon\":1e-8, \n",
    "    \"n_iter_no_change\":10, \n",
    "    \"max_fun\":15000}, \n",
    "    high_res_to_true_net_params=\n",
    "    {\"hidden_layer_sizes\":(100,),\n",
    "    \"activation\":\"relu\", \n",
    "    \"solver\":\"adam\", \n",
    "    \"alpha\":0.0001, \n",
    "    \"batch_size\":\"auto\", \n",
    "    \"learning_rate\":\"constant\", \n",
    "    \"learning_rate_init\":0.001, \n",
    "    \"power_t\":0.5, \n",
    "    \"max_iter\":200, \n",
    "    \"shuffle\":True, \n",
    "    \"random_state\":None, \n",
    "    \"tol\":1e-4, \n",
    "    \"verbose\":False, \n",
    "    \"warm_start\":False, \n",
    "    \"momentum\":0.9, \n",
    "    \"nesterovs_momentum\":True, \n",
    "    \"early_stopping\":True, \n",
    "    \"validation_fraction\":0.1, \n",
    "    \"beta_1\":0.9, \n",
    "    \"beta_2\":0.999, \n",
    "    \"epsilon\":1e-8, \n",
    "    \"n_iter_no_change\":10, \n",
    "    \"max_fun\":15000})\n"
   ]
  },
  {
   "cell_type": "code",
   "execution_count": null,
   "metadata": {},
   "outputs": [],
   "source": [
    "model.train(X_train, y_train, pos_train)"
   ]
  },
  {
   "cell_type": "code",
   "execution_count": 17,
   "metadata": {},
   "outputs": [
    {
     "data": {
      "image/png": "[encoded data removed]",
      "text/plain": [
       "<Figure size 720x504 with 2 Axes>"
      ]
     },
     "metadata": {
      "needs_background": "light"
     },
     "output_type": "display_data"
    }
   ],
   "source": [
    "\n",
    "model.plot_loss_curve()"
   ]
  },
  {
   "cell_type": "code",
   "execution_count": null,
   "metadata": {},
   "outputs": [],
   "source": [
    "# save\n",
    "with open('model_new.pkl','wb') as f:\n",
    "    pickle.dump(model,f)"
   ]
  }
 ],
 "metadata": {
  "kernelspec": {
   "display_name": "Python 3",
   "language": "python",
   "name": "python3"
  },
  "language_info": {
   "codemirror_mode": {
    "name": "ipython",
    "version": 3
   },
   "file_extension": ".py",
   "mimetype": "text/x-python",
   "name": "python",
   "nbconvert_exporter": "python",
   "pygments_lexer": "ipython3",
   "version": "3.10.6"
  },
  "orig_nbformat": 4
 },
 "nbformat": 4,
 "nbformat_minor": 2
}
