{
 "cells": [
  {
   "cell_type": "markdown",
   "id": "59ee29aa",
   "metadata": {},
   "source": [
    "### Notebook to test OptoSim photon transport"
   ]
  },
  {
   "cell_type": "code",
   "execution_count": 1,
   "id": "e8c06620",
   "metadata": {},
   "outputs": [],
   "source": [
    "import sys\n",
    "sys.path.insert(0,'../python/')\n",
    "from OpticalPhoton import *\n",
    "import matplotlib.pyplot as plt\n",
    "import matplotlib as mpl\n",
    "\n",
    "import json"
   ]
  },
  {
   "cell_type": "markdown",
   "id": "e653045f",
   "metadata": {},
   "source": [
    "#### Setup the system geometry"
   ]
  },
  {
   "cell_type": "code",
   "execution_count": 2,
   "id": "53d02c8f",
   "metadata": {},
   "outputs": [],
   "source": [
    "filename = 'testit.json'\n",
    "# done through the config file.....\n",
    "config = {\n",
    "    \"filename\": \"dummy.hd5f\",\n",
    "    \"nevents\": 100,\n",
    "    \"nphoton_per_event\": 10000,\n",
    "    \"geometry\": {\n",
    "        \"radius\": 2.5,\n",
    "        \"ztop\": 1.0,\n",
    "        \"zliq\": 0.0,\n",
    "        \"zbot\": -10.0\n",
    "    }\n",
    "}\n",
    "\n",
    "with open(filename, \"w\") as json_file:\n",
    "    json.dump(config, json_file, indent=4)"
   ]
  },
  {
   "cell_type": "markdown",
   "id": "0d7b3601",
   "metadata": {},
   "source": [
    "#### Setup the simulation parameters"
   ]
  },
  {
   "cell_type": "code",
   "execution_count": 3,
   "id": "92fc0a69",
   "metadata": {},
   "outputs": [],
   "source": [
    "x0 = (0., 1., 0.1) # starting position of the photons\n",
    "\n",
    "no_scatter = False # set to True if you want to compare to a case without scattering\n",
    "experimental_scatter_model = True # model for scattering from GXe/LXe on PTFE"
   ]
  },
  {
   "cell_type": "markdown",
   "id": "903afc43",
   "metadata": {},
   "source": [
    "#### Simulate photon transport"
   ]
  },
  {
   "cell_type": "code",
   "execution_count": 4,
   "id": "e09a9d15",
   "metadata": {},
   "outputs": [
    {
     "name": "stdout",
     "output_type": "stream",
     "text": [
      "Reading configuration from file: testit.json\n",
      "processed  0  photons\n",
      "processed  10000  photons\n",
      "processed  20000  photons\n",
      "processed  30000  photons\n",
      "processed  40000  photons\n",
      "processed  50000  photons\n",
      "processed  60000  photons\n",
      "processed  70000  photons\n",
      "processed  80000  photons\n",
      "processed  90000  photons\n",
      "24930 34270\n",
      "CPU times: user 28.8 s, sys: 259 ms, total: 29.1 s\n",
      "Wall time: 34.1 s\n"
     ]
    }
   ],
   "source": [
    "%%time\n",
    "myPhoton = OpticalPhoton(config='testit.json')\n",
    "# if you want to compare your result to the no-scatter case\n",
    "myPhoton.set_no_scattering(no_scatter)\n",
    "# turn ON/OFF the GXe/GXe -> PTFE scattering model\n",
    "myPhoton.set_experimental_scatter_model(experimental_scatter_model)\n",
    "\n",
    "xb = []\n",
    "yb = []\n",
    "xt = []\n",
    "yt = []\n",
    "\n",
    "for i in range(config['nphoton_per_event']):\n",
    "    if i%10000 == 0:\n",
    "        print('processed ',i,' photons')\n",
    "    # normal\n",
    "    myPhoton.generate_photon(x0=x0)\n",
    "    #myPhoton.set_photon_direction(np.array([0,0,-1]))\n",
    "    myPhoton.propagate()\n",
    "    \n",
    "    if myPhoton.is_detected():\n",
    "        x = myPhoton.get_photon_position()\n",
    "        #myPhoton.print()\n",
    "        if x[2]<0:\n",
    "            xb.append(x[0])\n",
    "            yb.append(x[1])\n",
    "        else:\n",
    "            xt.append(x[0])\n",
    "            yt.append(x[1])\n",
    "\n",
    "    \n",
    "xb = np.array(xb)\n",
    "yb = np.array(yb)\n",
    "xt = np.array(xt)\n",
    "yt = np.array(yt)\n",
    "\n",
    "print(len(xb), len(xt))"
   ]
  },
  {
   "cell_type": "code",
   "execution_count": 5,
   "id": "6fc23104",
   "metadata": {},
   "outputs": [
    {
     "ename": "KeyError",
     "evalue": "'radius'",
     "output_type": "error",
     "traceback": [
      "\u001b[0;31m---------------------------------------------------------------------------\u001b[0m",
      "\u001b[0;31mKeyError\u001b[0m                                  Traceback (most recent call last)",
      "Cell \u001b[0;32mIn[5], line 1\u001b[0m\n\u001b[0;32m----> 1\u001b[0m R \u001b[38;5;241m=\u001b[39m \u001b[43mconfig\u001b[49m\u001b[43m[\u001b[49m\u001b[38;5;124;43m'\u001b[39;49m\u001b[38;5;124;43mradius\u001b[39;49m\u001b[38;5;124;43m'\u001b[39;49m\u001b[43m]\u001b[49m\n\u001b[1;32m      2\u001b[0m h2\u001b[38;5;241m=\u001b[39mplt\u001b[38;5;241m.\u001b[39mhist2d(xb,yb,bins\u001b[38;5;241m=\u001b[39m(\u001b[38;5;241m20\u001b[39m,\u001b[38;5;241m20\u001b[39m),\u001b[38;5;28mrange\u001b[39m\u001b[38;5;241m=\u001b[39m((\u001b[38;5;241m-\u001b[39ma\u001b[38;5;241m*\u001b[39mR,a\u001b[38;5;241m*\u001b[39mR),(\u001b[38;5;241m-\u001b[39ma\u001b[38;5;241m*\u001b[39mR,a\u001b[38;5;241m*\u001b[39mR)))\u001b[38;5;66;03m#, norm=mpl.colors.LogNorm())\u001b[39;00m\n\u001b[1;32m      3\u001b[0m plt\u001b[38;5;241m.\u001b[39mcolorbar()\n",
      "\u001b[0;31mKeyError\u001b[0m: 'radius'"
     ]
    }
   ],
   "source": [
    "R = config['radius']\n",
    "h2=plt.hist2d(xb,yb,bins=(20,20),range=((-a*R,a*R),(-a*R,a*R)))#, norm=mpl.colors.LogNorm())\n",
    "plt.colorbar()"
   ]
  },
  {
   "cell_type": "code",
   "execution_count": null,
   "id": "59a87964",
   "metadata": {},
   "outputs": [],
   "source": [
    "h2=plt.hist2d(xt,yt,bins=(20,20),range=((-R,R),(-R,R)))#, norm=mpl.colors.LogNorm())\n",
    "plt.colorbar()"
   ]
  },
  {
   "cell_type": "code",
   "execution_count": null,
   "id": "ffbd80e1",
   "metadata": {},
   "outputs": [],
   "source": [
    "plt.hist((xt**2+yt**2),bins=50,range=(0,R**2), histtype='step')\n",
    "# plt.hist(yb,bins=50,range=(-R,R), histtype='step')\n",
    "plt.yscale('linear')"
   ]
  },
  {
   "cell_type": "code",
   "execution_count": null,
   "id": "9f06d793",
   "metadata": {},
   "outputs": [],
   "source": [
    "plt.hist(xt,bins=50,range=(-R,R), histtype='step')\n",
    "plt.hist(yt,bins=50,range=(-R,R), histtype='step')\n",
    "\n",
    "\n",
    "plt.yscale('linear')"
   ]
  },
  {
   "cell_type": "code",
   "execution_count": null,
   "id": "e30d31de",
   "metadata": {},
   "outputs": [],
   "source": [
    "plt.hist(xb,bins=50,range=(-R,R), histtype='step')\n",
    "plt.hist(yb,bins=50,range=(-R,R), histtype='step')\n",
    "\n",
    "\n",
    "plt.yscale('linear')"
   ]
  },
  {
   "cell_type": "code",
   "execution_count": null,
   "id": "175661ad",
   "metadata": {},
   "outputs": [],
   "source": [
    "import h5py"
   ]
  },
  {
   "cell_type": "code",
   "execution_count": null,
   "id": "ca6efa51",
   "metadata": {},
   "outputs": [],
   "source": []
  }
 ],
 "metadata": {
  "kernelspec": {
   "display_name": "Python 3 (ipykernel)",
   "language": "python",
   "name": "python3"
  },
  "language_info": {
   "codemirror_mode": {
    "name": "ipython",
    "version": 3
   },
   "file_extension": ".py",
   "mimetype": "text/x-python",
   "name": "python",
   "nbconvert_exporter": "python",
   "pygments_lexer": "ipython3",
   "version": "3.9.17"
  }
 },
 "nbformat": 4,
 "nbformat_minor": 5
}
