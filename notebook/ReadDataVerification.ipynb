{
 "cells": [
  {
   "cell_type": "code",
   "execution_count": 1,
   "id": "8f449326",
   "metadata": {},
   "outputs": [],
   "source": [
    "import h5py\n",
    "import json\n",
    "import numpy as np\n",
    "import matplotlib.pyplot as plt\n",
    "import glob\n",
    "from IPython.display import display, JSON, clear_output"
   ]
  },
  {
   "cell_type": "code",
   "execution_count": 2,
   "id": "c4fa6b99",
   "metadata": {},
   "outputs": [],
   "source": [
    "from EventReader import EventReader\n",
    "from EventReader import show_data"
   ]
  },
  {
   "cell_type": "markdown",
   "id": "981d05dd",
   "metadata": {},
   "source": [
    "#### Check all available data"
   ]
  },
  {
   "cell_type": "code",
   "execution_count": 7,
   "id": "c49e6eef",
   "metadata": {},
   "outputs": [
    {
     "name": "stdout",
     "output_type": "stream",
     "text": [
      "File /data/xenon/acolijn/optosim/data/mc0004/mc0004.0000.hd5f is currently open by another process. Skipping...\n"
     ]
    },
    {
     "data": {
      "text/html": [
       "<div>\n",
       "<style scoped>\n",
       "    .dataframe tbody tr th:only-of-type {\n",
       "        vertical-align: middle;\n",
       "    }\n",
       "\n",
       "    .dataframe tbody tr th {\n",
       "        vertical-align: top;\n",
       "    }\n",
       "\n",
       "    .dataframe thead th {\n",
       "        text-align: right;\n",
       "    }\n",
       "</style>\n",
       "<table border=\"1\" class=\"dataframe\">\n",
       "  <thead>\n",
       "    <tr style=\"text-align: right;\">\n",
       "      <th></th>\n",
       "      <th>subdir</th>\n",
       "      <th>detector</th>\n",
       "      <th>nevents</th>\n",
       "      <th>nphoton_per_event</th>\n",
       "      <th>set_no_scatter</th>\n",
       "      <th>set_experimental_scatter_model</th>\n",
       "      <th>radius</th>\n",
       "    </tr>\n",
       "  </thead>\n",
       "  <tbody>\n",
       "    <tr>\n",
       "      <th>0</th>\n",
       "      <td>mc0000</td>\n",
       "      <td>XAMS</td>\n",
       "      <td>1000</td>\n",
       "      <td>100000</td>\n",
       "      <td>False</td>\n",
       "      <td>True</td>\n",
       "      <td>2.5</td>\n",
       "    </tr>\n",
       "    <tr>\n",
       "      <th>1</th>\n",
       "      <td>mc0001</td>\n",
       "      <td>XAMS</td>\n",
       "      <td>10000</td>\n",
       "      <td>10000</td>\n",
       "      <td>False</td>\n",
       "      <td>True</td>\n",
       "      <td>2.5</td>\n",
       "    </tr>\n",
       "    <tr>\n",
       "      <th>2</th>\n",
       "      <td>mc0002</td>\n",
       "      <td>XAMS</td>\n",
       "      <td>10000</td>\n",
       "      <td>10000</td>\n",
       "      <td>True</td>\n",
       "      <td>True</td>\n",
       "      <td>2.5</td>\n",
       "    </tr>\n",
       "    <tr>\n",
       "      <th>3</th>\n",
       "      <td>mc0003</td>\n",
       "      <td>XAMS</td>\n",
       "      <td>10000</td>\n",
       "      <td>10000</td>\n",
       "      <td>False</td>\n",
       "      <td>False</td>\n",
       "      <td>2.5</td>\n",
       "    </tr>\n",
       "    <tr>\n",
       "      <th>4</th>\n",
       "      <td>mc0005</td>\n",
       "      <td>XAMS</td>\n",
       "      <td>10000</td>\n",
       "      <td>10000</td>\n",
       "      <td>True</td>\n",
       "      <td>True</td>\n",
       "      <td>3.2</td>\n",
       "    </tr>\n",
       "  </tbody>\n",
       "</table>\n",
       "</div>"
      ],
      "text/plain": [
       "   subdir detector  nevents  nphoton_per_event  set_no_scatter  \\\n",
       "0  mc0000     XAMS     1000             100000           False   \n",
       "1  mc0001     XAMS    10000              10000           False   \n",
       "2  mc0002     XAMS    10000              10000            True   \n",
       "3  mc0003     XAMS    10000              10000           False   \n",
       "4  mc0005     XAMS    10000              10000            True   \n",
       "\n",
       "   set_experimental_scatter_model  radius  \n",
       "0                            True     2.5  \n",
       "1                            True     2.5  \n",
       "2                            True     2.5  \n",
       "3                           False     2.5  \n",
       "4                            True     3.2  "
      ]
     },
     "execution_count": 7,
     "metadata": {},
     "output_type": "execute_result"
    }
   ],
   "source": [
    "data_dir = '/data/xenon/acolijn/optosim/data/'\n",
    "show_data(data_dir)"
   ]
  },
  {
   "cell_type": "markdown",
   "id": "cafd3df0",
   "metadata": {},
   "source": [
    "#### Get all the file names and initialize the data reader class"
   ]
  },
  {
   "cell_type": "code",
   "execution_count": 12,
   "id": "5c81c10b",
   "metadata": {},
   "outputs": [
    {
     "name": "stdout",
     "output_type": "stream",
     "text": [
      "number of files:  1\n"
     ]
    }
   ],
   "source": [
    "files = glob.glob('/data/xenon/acolijn/optosim/data/mc0005/*0000.hd5f')\n",
    "events = EventReader(files)"
   ]
  },
  {
   "cell_type": "markdown",
   "id": "a0c778a9",
   "metadata": {},
   "source": [
    "#### Loop over the events"
   ]
  },
  {
   "cell_type": "code",
   "execution_count": 9,
   "id": "f805b3ab",
   "metadata": {},
   "outputs": [
    {
     "name": "stdout",
     "output_type": "stream",
     "text": [
      "processed  0 events\n",
      "processed  1000 events\n",
      "processed  2000 events\n",
      "processed  3000 events\n",
      "processed  4000 events\n",
      "processed  5000 events\n",
      "processed  6000 events\n",
      "processed  7000 events\n",
      "processed  8000 events\n",
      "processed  9000 events\n",
      "CPU times: user 12.6 s, sys: 370 ms, total: 13 s\n",
      "Wall time: 18.5 s\n"
     ]
    }
   ],
   "source": [
    "%%time\n",
    "n = 0\n",
    "nmax =10000 # if you do not want to loop over all events\n",
    "\n",
    "xp = []\n",
    "yp = []\n",
    "q_tb = []\n",
    "q_lr = []\n",
    "q_tot = []\n",
    "\n",
    "for ev in events:\n",
    "    if n%1000 == 0:\n",
    "        print('processed ',n,'events')#, events.print_event(ev))\n",
    "    n+=1\n",
    "    \n",
    "    # retrieve the true hit position\n",
    "    x_true = ev['true_position'][()]\n",
    "    xp.append(x_true[0])\n",
    "    yp.append(x_true[1])\n",
    "                    \n",
    "    # get the data from the top PMT    \n",
    "    pmt = ev['pmt_top'][()]\n",
    "    \n",
    "    q_lr.append((pmt[0][0]+pmt[0][1])/qtot)\n",
    "    q_tot.append(qtot)\n",
    "            \n",
    "    # and the other data if you like....\n",
    "    fine_top = ev['fine_top'][()]\n",
    "    pmt_bot = ev['pmt_bot'][()]\n",
    "    fine_bot = ev['fine_bot'][()]\n",
    "    \n",
    "    if n>nmax:\n",
    "        break\n",
    "\n",
    "events.reset()"
   ]
  },
  {
   "cell_type": "markdown",
   "id": "943efb6e",
   "metadata": {},
   "source": [
    "#### Plot the charge ratio\n",
    "\n",
    "Two plots: (i) $Q_L / Q_{tot}$ as a function of $x$ (ii) $Q_B / Q_{tot}$ as a function of $y$."
   ]
  },
  {
   "cell_type": "code",
   "execution_count": 10,
   "id": "952cfbd6",
   "metadata": {},
   "outputs": [
    {
     "data": {
      "text/plain": [
       "Text(0, 0.5, '$Q_B / Q_{tot}$')"
      ]
     },
     "execution_count": 10,
     "metadata": {},
     "output_type": "execute_result"
    },
    {
     "data": {
      "image/png": "[encoded data removed]",
      "text/plain": [
       "<Figure size 1000x400 with 2 Axes>"
      ]
     },
     "metadata": {},
     "output_type": "display_data"
    }
   ],
   "source": [
    "fig, axs = plt.subplots(1, 2, figsize=(10, 4))\n",
    "\n",
    "R = events.config['geometry']['radius']\n",
    "\n",
    "h1 = axs[0].hist2d(xp,q_lr,bins=(100,100), range=((-R,R),(0,1)))\n",
    "axs[0].set_xlabel('$x_{true} (cm)$')\n",
    "axs[0].set_ylabel('$Q_L / Q_{tot}$')\n",
    "\n",
    "h2 = axs[1].hist2d(yp,q_tb,bins=(100,100), range=((-R,R),(0,1)))\n",
    "axs[1].set_xlabel('$y_{true} (cm)$')\n",
    "axs[1].set_ylabel('$Q_B / Q_{tot}$')"
   ]
  },
  {
   "cell_type": "markdown",
   "id": "bc650c7b",
   "metadata": {},
   "source": [
    ".... and also $Q_{tot}$ as a function of radius."
   ]
  },
  {
   "cell_type": "code",
   "execution_count": 13,
   "id": "cc671a30",
   "metadata": {},
   "outputs": [
    {
     "data": {
      "image/png": "[encoded data removed]",
      "text/plain": [
       "<Figure size 640x480 with 1 Axes>"
      ]
     },
     "metadata": {},
     "output_type": "display_data"
    }
   ],
   "source": [
    "xp = np.array(xp)\n",
    "yp = np.array(yp)\n",
    "R = events.config['geometry']['radius']\n",
    "\n",
    "\n",
    "q_tot = np.array(q_tot)\n",
    "r2 = np.sqrt(xp**2+yp**2)\n",
    "h=plt.hist2d(r2,q_tot,bins=100, range=((0,R),(0,5000)))\n",
    "plt.xlabel('R (cm)')\n",
    "plt.ylabel('$Q_{tot}$')\n",
    "plt.show()"
   ]
  },
  {
   "cell_type": "markdown",
   "id": "ca2592e2",
   "metadata": {},
   "source": [
    "#### Event display"
   ]
  },
  {
   "cell_type": "code",
   "execution_count": null,
   "id": "5f901c31",
   "metadata": {},
   "outputs": [
    {
     "data": {
      "image/png": "[encoded data removed]",
      "text/plain": [
       "<Figure size 1000x400 with 4 Axes>"
      ]
     },
     "metadata": {},
     "output_type": "display_data"
    },
    {
     "name": "stdout",
     "output_type": "stream",
     "text": [
      "[-1.08755808  2.44294449  0.1       ]\n"
     ]
    }
   ],
   "source": [
    "events = EventReader(files)\n",
    "\n",
    "for ev in events:\n",
    "    events.show_event(ev)\n",
    "\n",
    "    print(ev['true_position'])\n",
    "    response = input(\"Press Enter to continue to the next event or 'q' to quit...\")\n",
    "\n",
    "    if response.lower() == 'q':\n",
    "        print(\"Quit the event display......\")\n",
    "        break\n",
    "        \n",
    "    clear_output(wait=True)\n",
    "\n",
    "events.reset()"
   ]
  },
  {
   "cell_type": "markdown",
   "id": "b851438a",
   "metadata": {},
   "source": [
    "#### Little hack to add attributes to the hd5f files..... be careful!\n"
   ]
  },
  {
   "cell_type": "code",
   "execution_count": 6,
   "id": "40ef0766",
   "metadata": {},
   "outputs": [],
   "source": [
    "filename='/data/xenon/acolijn/optosim/data/mc0005/mc0005.0000.hd5f'\n",
    "\n",
    "filename='xxxxxx' # just for safety\n",
    "with h5py.File(filename, 'r+') as f:\n",
    "    config_str = f.attrs['config']\n",
    "    config_dict = json.loads(config_str)  # Parse the string to get a dictionary\n",
    "    config_dict['detector'] = 'XAMS'\n",
    "    modified_config_str = json.dumps(config_dict)  # Convert the modified dictionary back to a string\n",
    "    f.attrs['config'] = modified_config_str\n"
   ]
  },
  {
   "cell_type": "code",
   "execution_count": null,
   "id": "3a04f009",
   "metadata": {},
   "outputs": [],
   "source": []
  }
 ],
 "metadata": {
  "kernelspec": {
   "display_name": "Python 3 (ipykernel)",
   "language": "python",
   "name": "python3"
  },
  "language_info": {
   "codemirror_mode": {
    "name": "ipython",
    "version": 3
   },
   "file_extension": ".py",
   "mimetype": "text/x-python",
   "name": "python",
   "nbconvert_exporter": "python",
   "pygments_lexer": "ipython3",
   "version": "3.10.6"
  }
 },
 "nbformat": 4,
 "nbformat_minor": 5
}
