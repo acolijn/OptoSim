{
 "cells": [
  {
   "cell_type": "code",
   "execution_count": 1,
   "id": "8f449326",
   "metadata": {},
   "outputs": [],
   "source": [
    "import h5py\n",
    "import json\n",
    "import numpy as np\n",
    "import matplotlib.pyplot as plt\n",
    "import glob\n",
    "from IPython.display import display, JSON, clear_output"
   ]
  },
  {
   "cell_type": "code",
   "execution_count": 2,
   "id": "c4fa6b99",
   "metadata": {},
   "outputs": [],
   "source": [
    "from EventReader import EventReader\n",
    "from EventReader import show_data"
   ]
  },
  {
   "cell_type": "markdown",
   "id": "981d05dd",
   "metadata": {},
   "source": [
    "#### Check all available data"
   ]
  },
  {
   "cell_type": "code",
   "execution_count": 3,
   "id": "c49e6eef",
   "metadata": {},
   "outputs": [
    {
     "name": "stdout",
     "output_type": "stream",
     "text": [
      "File /data/xenon/acolijn/optosim/data/mc0004/mc0004.0000.hd5f is currently open by another process. Skipping...\n",
      "File /data/xenon/acolijn/optosim/data/mc0005/mc0005.0000.hd5f is currently open by another process. Skipping...\n"
     ]
    },
    {
     "data": {
      "text/html": [
       "<div>\n",
       "<style scoped>\n",
       "    .dataframe tbody tr th:only-of-type {\n",
       "        vertical-align: middle;\n",
       "    }\n",
       "\n",
       "    .dataframe tbody tr th {\n",
       "        vertical-align: top;\n",
       "    }\n",
       "\n",
       "    .dataframe thead th {\n",
       "        text-align: right;\n",
       "    }\n",
       "</style>\n",
       "<table border=\"1\" class=\"dataframe\">\n",
       "  <thead>\n",
       "    <tr style=\"text-align: right;\">\n",
       "      <th></th>\n",
       "      <th>subdir</th>\n",
       "      <th>nevents</th>\n",
       "      <th>nphoton_per_event</th>\n",
       "      <th>set_no_scatter</th>\n",
       "      <th>set_experimental_scatter_model</th>\n",
       "      <th>radius</th>\n",
       "    </tr>\n",
       "  </thead>\n",
       "  <tbody>\n",
       "    <tr>\n",
       "      <th>0</th>\n",
       "      <td>mc0000</td>\n",
       "      <td>1000</td>\n",
       "      <td>100000</td>\n",
       "      <td>False</td>\n",
       "      <td>True</td>\n",
       "      <td>2.5</td>\n",
       "    </tr>\n",
       "    <tr>\n",
       "      <th>1</th>\n",
       "      <td>mc0001</td>\n",
       "      <td>10000</td>\n",
       "      <td>10000</td>\n",
       "      <td>False</td>\n",
       "      <td>True</td>\n",
       "      <td>2.5</td>\n",
       "    </tr>\n",
       "    <tr>\n",
       "      <th>2</th>\n",
       "      <td>mc0002</td>\n",
       "      <td>10000</td>\n",
       "      <td>10000</td>\n",
       "      <td>True</td>\n",
       "      <td>True</td>\n",
       "      <td>2.5</td>\n",
       "    </tr>\n",
       "    <tr>\n",
       "      <th>3</th>\n",
       "      <td>mc0003</td>\n",
       "      <td>10000</td>\n",
       "      <td>10000</td>\n",
       "      <td>False</td>\n",
       "      <td>False</td>\n",
       "      <td>2.5</td>\n",
       "    </tr>\n",
       "  </tbody>\n",
       "</table>\n",
       "</div>"
      ],
      "text/plain": [
       "   subdir  nevents  nphoton_per_event  set_no_scatter  \\\n",
       "0  mc0000     1000             100000           False   \n",
       "1  mc0001    10000              10000           False   \n",
       "2  mc0002    10000              10000            True   \n",
       "3  mc0003    10000              10000           False   \n",
       "\n",
       "   set_experimental_scatter_model  radius  \n",
       "0                            True     2.5  \n",
       "1                            True     2.5  \n",
       "2                            True     2.5  \n",
       "3                           False     2.5  "
      ]
     },
     "execution_count": 3,
     "metadata": {},
     "output_type": "execute_result"
    }
   ],
   "source": [
    "data_dir = '/data/xenon/acolijn/optosim/data/'\n",
    "show_data(data_dir)"
   ]
  },
  {
   "cell_type": "markdown",
   "id": "cafd3df0",
   "metadata": {},
   "source": [
    "#### Get all the file names and initialize the data reader class"
   ]
  },
  {
   "cell_type": "code",
   "execution_count": 4,
   "id": "5c81c10b",
   "metadata": {},
   "outputs": [
    {
     "name": "stdout",
     "output_type": "stream",
     "text": [
      "number of files:  1\n",
      "{'nevents': 10000, 'nphoton_per_event': 10000, 'photon_zgen': 0.1, 'geometry': {'type': 'cylinder', 'radius': 2.5, 'ztop': 1.0, 'zliq': 0.0, 'zbot': -5.0}, 'npmt_xy': 2, 'pmt': {'type': 'square', 'size': 2.54, 'ndivs': 10}, 'set_no_scatter': False, 'set_experimental_scatter_model': True, 'filename': '/data/xenon/acolijn/optosim/data/mc0001/mc0001.0000.hd5f'}\n"
     ]
    }
   ],
   "source": [
    "files = glob.glob('/data/xenon/acolijn/optosim/data/mc0001/*0000.hd5f')\n",
    "events = EventReader(files)\n",
    "events.print_config()"
   ]
  },
  {
   "cell_type": "markdown",
   "id": "a0c778a9",
   "metadata": {},
   "source": [
    "#### Loop over the events"
   ]
  },
  {
   "cell_type": "code",
   "execution_count": 5,
   "id": "f805b3ab",
   "metadata": {},
   "outputs": [
    {
     "name": "stdout",
     "output_type": "stream",
     "text": [
      "processed  0 events\n",
      "processed  1000 events\n",
      "processed  2000 events\n",
      "processed  3000 events\n",
      "processed  4000 events\n",
      "processed  5000 events\n",
      "processed  6000 events\n",
      "processed  7000 events\n",
      "processed  8000 events\n",
      "processed  9000 events\n",
      "CPU times: user 12.4 s, sys: 507 ms, total: 12.9 s\n",
      "Wall time: 13.6 s\n"
     ]
    }
   ],
   "source": [
    "%%time\n",
    "n = 0\n",
    "nmax =10000 # if you do not want to loop over all events\n",
    "\n",
    "xp = []\n",
    "yp = []\n",
    "q_tb = []\n",
    "q_lr = []\n",
    "q_tot = []\n",
    "\n",
    "for ev in events:\n",
    "    if n%1000 == 0:\n",
    "        print('processed ',n,'events')#, events.print_event(ev))\n",
    "    n+=1\n",
    "    \n",
    "    # retrieve the true hit position\n",
    "    x_true = ev['true_position'][()]\n",
    "    xp.append(x_true[0])\n",
    "    yp.append(x_true[1])\n",
    "                    \n",
    "    # get the data from the top PMT    \n",
    "    pmt = ev['pmt_top'][()]\n",
    "    qtot = float(np.sum(pmt))\n",
    "    q_tb.append((pmt[0][0]+pmt[1][0])/qtot)\n",
    "    q_lr.append((pmt[0][0]+pmt[0][1])/qtot)\n",
    "    q_tot.append(qtot)\n",
    "            \n",
    "    # and the other data if you like....\n",
    "    fine_top = ev['fine_top'][()]\n",
    "    pmt_bot = ev['pmt_bot'][()]\n",
    "    fine_bot = ev['fine_bot'][()]\n",
    "    \n",
    "    if n>nmax:\n",
    "        break\n",
    "\n",
    "events.reset()"
   ]
  },
  {
   "cell_type": "markdown",
   "id": "943efb6e",
   "metadata": {},
   "source": [
    "#### Plot the charge ratio\n",
    "\n",
    "Two plots: (i) $Q_L / Q_{tot}$ as a function of $x$ (ii) $Q_B / Q_{tot}$ as a function of $y$."
   ]
  },
  {
   "cell_type": "code",
   "execution_count": 6,
   "id": "952cfbd6",
   "metadata": {},
   "outputs": [
    {
     "data": {
      "text/plain": [
       "Text(0, 0.5, '$Q_B / Q_{tot}$')"
      ]
     },
     "execution_count": 6,
     "metadata": {},
     "output_type": "execute_result"
    },
    {
     "data": {
      "image/png": "[encoded data removed]",
      "text/plain": [
       "<Figure size 1000x400 with 2 Axes>"
      ]
     },
     "metadata": {},
     "output_type": "display_data"
    }
   ],
   "source": [
    "fig, axs = plt.subplots(1, 2, figsize=(10, 4))\n",
    "\n",
    "R = events.config['geometry']['radius']\n",
    "\n",
    "h1 = axs[0].hist2d(xp,q_lr,bins=(100,100), range=((-R,R),(0,1)))\n",
    "axs[0].set_xlabel('$x_{true} (cm)$')\n",
    "axs[0].set_ylabel('$Q_L / Q_{tot}$')\n",
    "\n",
    "h2 = axs[1].hist2d(yp,q_tb,bins=(100,100), range=((-R,R),(0,1)))\n",
    "axs[1].set_xlabel('$y_{true} (cm)$')\n",
    "axs[1].set_ylabel('$Q_B / Q_{tot}$')"
   ]
  },
  {
   "cell_type": "markdown",
   "id": "bc650c7b",
   "metadata": {},
   "source": [
    ".... and also $Q_{tot}$ as a function of radius."
   ]
  },
  {
   "cell_type": "code",
   "execution_count": 7,
   "id": "cc671a30",
   "metadata": {},
   "outputs": [
    {
     "data": {
      "text/plain": [
       "Text(0, 0.5, '$Q_{tot}$')"
      ]
     },
     "execution_count": 7,
     "metadata": {},
     "output_type": "execute_result"
    },
    {
     "data": {
      "image/png": "[encoded data removed]",
      "text/plain": [
       "<Figure size 640x480 with 1 Axes>"
      ]
     },
     "metadata": {},
     "output_type": "display_data"
    }
   ],
   "source": [
    "xp = np.array(xp)\n",
    "yp = np.array(yp)\n",
    "R = events.config['geometry']['radius']\n",
    "\n",
    "\n",
    "q_tot = np.array(q_tot)\n",
    "r2 = np.sqrt(xp**2+yp**2)\n",
    "h=plt.hist2d(r2,q_tot,bins=100, range=((0,R),(0,5000)))\n",
    "plt.xlabel('R (cm)')\n",
    "plt.ylabel('$Q_{tot}$')"
   ]
  },
  {
   "cell_type": "markdown",
   "id": "ca2592e2",
   "metadata": {},
   "source": [
    "#### Event display"
   ]
  },
  {
   "cell_type": "code",
   "execution_count": 8,
   "id": "5f901c31",
   "metadata": {},
   "outputs": [
    {
     "name": "stdout",
     "output_type": "stream",
     "text": [
      "number of files:  1\n"
     ]
    },
    {
     "ename": "AttributeError",
     "evalue": "'Axes' object has no attribute 'x_label'",
     "output_type": "error",
     "traceback": [
      "\u001b[0;31m---------------------------------------------------------------------------\u001b[0m",
      "\u001b[0;31mAttributeError\u001b[0m                            Traceback (most recent call last)",
      "Cell \u001b[0;32mIn[8], line 4\u001b[0m\n\u001b[1;32m      1\u001b[0m events \u001b[38;5;241m=\u001b[39m EventReader(files)\n\u001b[1;32m      3\u001b[0m \u001b[38;5;28;01mfor\u001b[39;00m ev \u001b[38;5;129;01min\u001b[39;00m events:\n\u001b[0;32m----> 4\u001b[0m     events\u001b[38;5;241m.\u001b[39mshow_event(ev)\n\u001b[1;32m      5\u001b[0m     response \u001b[38;5;241m=\u001b[39m \u001b[38;5;28minput\u001b[39m(\u001b[38;5;124m\"\u001b[39m\u001b[38;5;124mPress Enter to continue to the next event or \u001b[39m\u001b[38;5;124m'\u001b[39m\u001b[38;5;124mq\u001b[39m\u001b[38;5;124m'\u001b[39m\u001b[38;5;124m to quit...\u001b[39m\u001b[38;5;124m\"\u001b[39m)\n\u001b[1;32m      7\u001b[0m     \u001b[38;5;28;01mif\u001b[39;00m response\u001b[38;5;241m.\u001b[39mlower() \u001b[38;5;241m==\u001b[39m \u001b[38;5;124m'\u001b[39m\u001b[38;5;124mq\u001b[39m\u001b[38;5;124m'\u001b[39m:\n",
      "File \u001b[0;32m~/OptoSim/notebook/../python/EventReader.py:118\u001b[0m, in \u001b[0;36mEventReader.show_event\u001b[0;34m(self, event)\u001b[0m\n\u001b[1;32m    116\u001b[0m plt\u001b[38;5;241m.\u001b[39mcolorbar(im, ax\u001b[38;5;241m=\u001b[39maxs[\u001b[38;5;241m0\u001b[39m])\n\u001b[1;32m    117\u001b[0m axs[\u001b[38;5;241m0\u001b[39m]\u001b[38;5;241m.\u001b[39mplot(truth[\u001b[38;5;241m0\u001b[39m], truth[\u001b[38;5;241m1\u001b[39m], marker\u001b[38;5;241m=\u001b[39m\u001b[38;5;124m'\u001b[39m\u001b[38;5;124mo\u001b[39m\u001b[38;5;124m'\u001b[39m, markersize\u001b[38;5;241m=\u001b[39m\u001b[38;5;241m10\u001b[39m, color\u001b[38;5;241m=\u001b[39m\u001b[38;5;124m'\u001b[39m\u001b[38;5;124mred\u001b[39m\u001b[38;5;124m'\u001b[39m, label\u001b[38;5;241m=\u001b[39m\u001b[38;5;124m'\u001b[39m\u001b[38;5;124mMarker\u001b[39m\u001b[38;5;124m'\u001b[39m)\n\u001b[0;32m--> 118\u001b[0m axs[\u001b[38;5;241m0\u001b[39m]\u001b[38;5;241m.\u001b[39mx_label(\u001b[38;5;124m'\u001b[39m\u001b[38;5;124mx (cm)\u001b[39m\u001b[38;5;124m'\u001b[39m)\n\u001b[1;32m    119\u001b[0m axs[\u001b[38;5;241m0\u001b[39m]\u001b[38;5;241m.\u001b[39my_label(\u001b[38;5;124m'\u001b[39m\u001b[38;5;124my (cm)\u001b[39m\u001b[38;5;124m'\u001b[39m)\n\u001b[1;32m    121\u001b[0m pmt \u001b[38;5;241m=\u001b[39m np\u001b[38;5;241m.\u001b[39marray(event[\u001b[38;5;124m'\u001b[39m\u001b[38;5;124mpmt_top\u001b[39m\u001b[38;5;124m'\u001b[39m])\n",
      "\u001b[0;31mAttributeError\u001b[0m: 'Axes' object has no attribute 'x_label'"
     ]
    },
    {
     "data": {
      "image/png": "[encoded data removed]",
      "text/plain": [
       "<Figure size 1000x400 with 3 Axes>"
      ]
     },
     "metadata": {},
     "output_type": "display_data"
    }
   ],
   "source": [
    "events = EventReader(files)\n",
    "\n",
    "for ev in events:\n",
    "    events.show_event(ev)\n",
    "    response = input(\"Press Enter to continue to the next event or 'q' to quit...\")\n",
    "\n",
    "    if response.lower() == 'q':\n",
    "        print(\"Quit the event display......\")\n",
    "        break\n",
    "        \n",
    "    clear_output(wait=True)\n",
    "\n",
    "events.reset()"
   ]
  },
  {
   "cell_type": "markdown",
   "id": "b851438a",
   "metadata": {},
   "source": [
    "#### alternative is to write a loop over files every time you want to analyze something.... (may be a bit faster)\n"
   ]
  },
  {
   "cell_type": "code",
   "execution_count": null,
   "id": "82f760e3",
   "metadata": {},
   "outputs": [],
   "source": [
    "%%time\n",
    "# Get a list of all HDF5 files in the current directory\n",
    "hdf5_files = glob.glob(data_dir+'*0001.hd5f')\n",
    "print(hdf5_files)\n",
    "\n",
    "# Read each file\n",
    "xp = []\n",
    "yp = []\n",
    "q_tb = []\n",
    "q_lr = []\n",
    "q_tot = []\n",
    "\n",
    "first_file = True\n",
    "for hdf5_file in hdf5_files:\n",
    "    with h5py.File(hdf5_file, 'r') as f:\n",
    "        print(f\"Reading file: {hdf5_file}\")\n",
    "        config = f.attrs['config']\n",
    "\n",
    "        if first_file:\n",
    "            display(config)\n",
    "            first_file = False\n",
    "        events_group = f['events']\n",
    "\n",
    "        # Loop through all events in the events group\n",
    "        for event_name, event_group in events_group.items():\n",
    "            # Extract PMT and fine signals for each event\n",
    "            x_true = event_group['true_position'][()]\n",
    "            xp.append(x_true[0])\n",
    "            yp.append(x_true[1])\n",
    "            \n",
    "            \n",
    "            pmt = event_group['pmt_top'][()]\n",
    "            qtot = float(np.sum(pmt))\n",
    "            q_tb.append((pmt[0][0]+pmt[1][0])/qtot)\n",
    "            q_lr.append((pmt[0][0]+pmt[0][1])/qtot)\n",
    "            q_tot.append(qtot)\n",
    "            \n",
    "            fine_signal_top = event_group['fine_top'][()]\n",
    "            pmt_signal_bot = event_group['pmt_bot'][()]\n",
    "            fine_signal_bot = event_group['fine_bot'][()]\n",
    "            \n",
    "print('Done')"
   ]
  }
 ],
 "metadata": {
  "kernelspec": {
   "display_name": "Python 3 (ipykernel)",
   "language": "python",
   "name": "python3"
  },
  "language_info": {
   "codemirror_mode": {
    "name": "ipython",
    "version": 3
   },
   "file_extension": ".py",
   "mimetype": "text/x-python",
   "name": "python",
   "nbconvert_exporter": "python",
   "pygments_lexer": "ipython3",
   "version": "3.11.5"
  }
 },
 "nbformat": 4,
 "nbformat_minor": 5
}
