{
 "cells": [
  {
   "cell_type": "code",
   "execution_count": 1,
   "id": "3268a701",
   "metadata": {},
   "outputs": [],
   "source": [
    "import sys\n",
    "sys.path.insert(0,'../python/')\n",
    "from OpticalPhoton import *\n",
    "import matplotlib.pyplot as plt\n",
    "import matplotlib as mpl"
   ]
  },
  {
   "cell_type": "code",
   "execution_count": 2,
   "id": "af7bcf7b",
   "metadata": {},
   "outputs": [],
   "source": [
    "from Generator import *"
   ]
  },
  {
   "cell_type": "code",
   "execution_count": 3,
   "id": "66eaaeaf",
   "metadata": {},
   "outputs": [
    {
     "name": "stdout",
     "output_type": "stream",
     "text": [
      "Generator::Reading configuration from file: config.json\n",
      "OpticalPhoton::Reading configuration from file: config.json\n"
     ]
    }
   ],
   "source": [
    "gen = Generator()"
   ]
  },
  {
   "cell_type": "code",
   "execution_count": 4,
   "id": "e4921325",
   "metadata": {},
   "outputs": [
    {
     "name": "stdout",
     "output_type": "stream",
     "text": [
      "1.4185049350436605 1.5867883357940054 0.1\n",
      "number\n",
      "true_position\n",
      "-1.9682343458769325 -1.5177840197128456 0.1\n",
      "number\n",
      "true_position\n",
      "-1.3144851635118602 -1.2667114118959308 0.1\n",
      "number\n",
      "true_position\n",
      "0.08673412361630788 1.183089120402435 0.1\n",
      "number\n",
      "true_position\n",
      "1.6675726312615606 -1.143367155330743 0.1\n",
      "number\n",
      "true_position\n",
      "0.6588488322621565 1.1321829599923954 0.1\n",
      "number\n",
      "true_position\n",
      "-1.28990188111414 -0.7934259436079866 0.1\n",
      "number\n",
      "true_position\n",
      "-0.1757147578051157 -1.2286048794426256 0.1\n",
      "number\n",
      "true_position\n",
      "-1.254048534010579 -0.5029415147419948 0.1\n",
      "number\n",
      "true_position\n",
      "0.8998131343658462 -1.0066010527671014 0.1\n",
      "number\n",
      "true_position\n"
     ]
    },
    {
     "data": {
      "text/plain": [
       "0"
      ]
     },
     "execution_count": 4,
     "metadata": {},
     "output_type": "execute_result"
    }
   ],
   "source": [
    "gen.generate_batch(10)"
   ]
  },
  {
   "cell_type": "code",
   "execution_count": 80,
   "id": "746e1555",
   "metadata": {},
   "outputs": [
    {
     "name": "stdout",
     "output_type": "stream",
     "text": [
      "{'filename': 'dummy.hd5f', 'nevents': 100, 'nphoton_per_event': 10000, 'photon_zgen': 0.1, 'geometry': {'type': 'cylinder', 'radius': 2.5, 'ztop': 1.0, 'zliq': 0.0, 'zbot': -10.0}}\n",
      "2.5\n",
      "<HDF5 group \"/events\" (10 members)>\n",
      "0\n",
      "[1.41850494 1.58678834 0.1       ]\n",
      "1\n",
      "[-1.96823435 -1.51778402  0.1       ]\n",
      "2\n",
      "[-1.31448516 -1.26671141  0.1       ]\n",
      "3\n",
      "[0.08673412 1.18308912 0.1       ]\n",
      "4\n",
      "[ 1.66757263 -1.14336716  0.1       ]\n",
      "5\n",
      "[0.65884883 1.13218296 0.1       ]\n",
      "6\n",
      "[-1.28990188 -0.79342594  0.1       ]\n",
      "7\n",
      "[-0.17571476 -1.22860488  0.1       ]\n",
      "8\n",
      "[-1.25404853 -0.50294151  0.1       ]\n",
      "9\n",
      "[ 0.89981313 -1.00660105  0.1       ]\n"
     ]
    }
   ],
   "source": [
    "import h5py\n",
    "import json\n",
    "\n",
    "# Open the HDF5 file in read mode\n",
    "with h5py.File('dummy.hd5f', 'r') as hf:\n",
    "    \n",
    "    # Access the 'config' group\n",
    "    config = json.loads(hf.attrs['config'])\n",
    "    print(config)\n",
    "    print(config['geometry']['radius'])\n",
    "    \n",
    "\n",
    "    # Print the structure of the 'events' dataset\n",
    "    events = hf['events']\n",
    "    print(events)\n",
    "\n",
    "    # Iterate over the elements in the dataset\n",
    "    for event in events:\n",
    "        event = events[event]\n",
    "        # Print the structure of each element\n",
    "        print(event['number'][()])\n",
    "        print(np.array(event['true_position']))\n",
    "        \n",
    "\n",
    "        # Access the data within each element\n",
    "        #data = str(event[()]\n",
    "        #print(data)\n",
    "\n"
   ]
  },
  {
   "cell_type": "code",
   "execution_count": null,
   "id": "be5177d0",
   "metadata": {},
   "outputs": [],
   "source": []
  },
  {
   "cell_type": "code",
   "execution_count": null,
   "id": "0523cd3d",
   "metadata": {},
   "outputs": [],
   "source": []
  }
 ],
 "metadata": {
  "kernelspec": {
   "display_name": "Python 3 (ipykernel)",
   "language": "python",
   "name": "python3"
  },
  "language_info": {
   "codemirror_mode": {
    "name": "ipython",
    "version": 3
   },
   "file_extension": ".py",
   "mimetype": "text/x-python",
   "name": "python",
   "nbconvert_exporter": "python",
   "pygments_lexer": "ipython3",
   "version": "3.9.17"
  }
 },
 "nbformat": 4,
 "nbformat_minor": 5
}
