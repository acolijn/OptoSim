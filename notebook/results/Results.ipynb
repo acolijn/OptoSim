{
 "cells": [
  {
   "cell_type": "markdown",
   "metadata": {},
   "source": [
    "# Results of the OptoSim super-resolution project"
   ]
  },
  {
   "cell_type": "markdown",
   "metadata": {},
   "source": [
    "## Get data"
   ]
  },
  {
   "cell_type": "code",
   "execution_count": 117,
   "metadata": {},
   "outputs": [],
   "source": [
    "import glob\n",
    "import numpy as np\n",
    "import matplotlib.pyplot as plt\n",
    "import os\n",
    "import pickle\n",
    "import sys\n",
    "import json\n",
    "from sklearn.metrics import mean_squared_error\n",
    "\n",
    "\n",
    "import optosim \n",
    "\n",
    "from optosim.settings import DATA_DIR, MODEL_DIR\n",
    "\n",
    "from optosim.simulation.event_reader import EventReader, show_data\n",
    "\n",
    "from optosim.super_resolution.model import SuperResolutionModel\n",
    "from optosim.super_resolution.model import create_datasets\n",
    "\n",
    "import optosim.super_resolution.model_utils as model_utils\n",
    "\n",
    "from optosim.model_train import read_events, get_model_parameters\n",
    "\n",
    "from optosim.super_resolution.model_utils import (\n",
    "    reshape_data,\n",
    "    weighted_average_estimator,\n",
    "    downsample_heatmaps_to_dimensions,\n",
    "    mse,\n",
    "    r_squared,\n",
    ")\n",
    "\n",
    "\n",
    "from optosim.super_resolution.model import SuperResolutionModel, create_datasets\n"
   ]
  },
  {
   "cell_type": "code",
   "execution_count": 118,
   "metadata": {},
   "outputs": [
    {
     "name": "stdout",
     "output_type": "stream",
     "text": [
      "Found 9 subdirectories\n",
      "Subdirectories:\n",
      "['logs', 'mc0000', 'mc0001', 'mc0002', 'mc0003', 'mc0004', 'mc0005', 'mc0006', 'mc9999']\n"
     ]
    },
    {
     "data": {
      "text/html": [
       "<div>\n",
       "<style scoped>\n",
       "    .dataframe tbody tr th:only-of-type {\n",
       "        vertical-align: middle;\n",
       "    }\n",
       "\n",
       "    .dataframe tbody tr th {\n",
       "        vertical-align: top;\n",
       "    }\n",
       "\n",
       "    .dataframe thead th {\n",
       "        text-align: right;\n",
       "    }\n",
       "</style>\n",
       "<table border=\"1\" class=\"dataframe\">\n",
       "  <thead>\n",
       "    <tr style=\"text-align: right;\">\n",
       "      <th></th>\n",
       "      <th>subdir</th>\n",
       "      <th>detector</th>\n",
       "      <th>nevents</th>\n",
       "      <th>nphoton_per_event</th>\n",
       "      <th>set_no_scatter</th>\n",
       "      <th>set_experimental_scatter_model</th>\n",
       "      <th>radius</th>\n",
       "    </tr>\n",
       "  </thead>\n",
       "  <tbody>\n",
       "    <tr>\n",
       "      <th>0</th>\n",
       "      <td>mc0000</td>\n",
       "      <td>XAMS</td>\n",
       "      <td>1000</td>\n",
       "      <td>100000</td>\n",
       "      <td>False</td>\n",
       "      <td>True</td>\n",
       "      <td>3.2</td>\n",
       "    </tr>\n",
       "    <tr>\n",
       "      <th>1</th>\n",
       "      <td>mc0001</td>\n",
       "      <td>XAMS</td>\n",
       "      <td>10000</td>\n",
       "      <td>10000</td>\n",
       "      <td>False</td>\n",
       "      <td>True</td>\n",
       "      <td>3.2</td>\n",
       "    </tr>\n",
       "    <tr>\n",
       "      <th>2</th>\n",
       "      <td>mc0002</td>\n",
       "      <td>XAMS</td>\n",
       "      <td>10000</td>\n",
       "      <td>10000</td>\n",
       "      <td>True</td>\n",
       "      <td>True</td>\n",
       "      <td>3.2</td>\n",
       "    </tr>\n",
       "    <tr>\n",
       "      <th>3</th>\n",
       "      <td>mc0003</td>\n",
       "      <td>XAMS</td>\n",
       "      <td>10000</td>\n",
       "      <td>10000</td>\n",
       "      <td>False</td>\n",
       "      <td>False</td>\n",
       "      <td>3.2</td>\n",
       "    </tr>\n",
       "    <tr>\n",
       "      <th>4</th>\n",
       "      <td>mc0004</td>\n",
       "      <td>XAMS</td>\n",
       "      <td>10000</td>\n",
       "      <td>10000</td>\n",
       "      <td>False</td>\n",
       "      <td>True</td>\n",
       "      <td>3.2</td>\n",
       "    </tr>\n",
       "    <tr>\n",
       "      <th>5</th>\n",
       "      <td>mc0005</td>\n",
       "      <td>XAMS</td>\n",
       "      <td>10000</td>\n",
       "      <td>10000</td>\n",
       "      <td>True</td>\n",
       "      <td>True</td>\n",
       "      <td>3.2</td>\n",
       "    </tr>\n",
       "    <tr>\n",
       "      <th>6</th>\n",
       "      <td>mc0006</td>\n",
       "      <td>XAMS</td>\n",
       "      <td>10000</td>\n",
       "      <td>[1000, 25000]</td>\n",
       "      <td>False</td>\n",
       "      <td>True</td>\n",
       "      <td>3.2</td>\n",
       "    </tr>\n",
       "    <tr>\n",
       "      <th>7</th>\n",
       "      <td>mc9999</td>\n",
       "      <td>XAMS</td>\n",
       "      <td>100</td>\n",
       "      <td>10000</td>\n",
       "      <td>False</td>\n",
       "      <td>True</td>\n",
       "      <td>8.0</td>\n",
       "    </tr>\n",
       "  </tbody>\n",
       "</table>\n",
       "</div>"
      ],
      "text/plain": [
       "   subdir detector  nevents nphoton_per_event  set_no_scatter  \\\n",
       "0  mc0000     XAMS     1000            100000           False   \n",
       "1  mc0001     XAMS    10000             10000           False   \n",
       "2  mc0002     XAMS    10000             10000            True   \n",
       "3  mc0003     XAMS    10000             10000           False   \n",
       "4  mc0004     XAMS    10000             10000           False   \n",
       "5  mc0005     XAMS    10000             10000            True   \n",
       "6  mc0006     XAMS    10000     [1000, 25000]           False   \n",
       "7  mc9999     XAMS      100             10000           False   \n",
       "\n",
       "   set_experimental_scatter_model  radius  \n",
       "0                            True     3.2  \n",
       "1                            True     3.2  \n",
       "2                            True     3.2  \n",
       "3                           False     3.2  \n",
       "4                            True     3.2  \n",
       "5                            True     3.2  \n",
       "6                            True     3.2  \n",
       "7                            True     8.0  "
      ]
     },
     "execution_count": 118,
     "metadata": {},
     "output_type": "execute_result"
    }
   ],
   "source": [
    "show_data(DATA_DIR)"
   ]
  },
  {
   "cell_type": "code",
   "execution_count": 119,
   "metadata": {},
   "outputs": [
    {
     "name": "stdout",
     "output_type": "stream",
     "text": [
      "Reading data from /data/xenon/acolijn/optosim/data/mc0006\n",
      "Found 100 files\n",
      "number of files:  100\n",
      "Found 9 subdirectories\n",
      "Subdirectories:\n",
      "['logs', 'mc0000', 'mc0001', 'mc0002', 'mc0003', 'mc0004', 'mc0005', 'mc0006', 'mc9999']\n",
      "processed  0 events\n",
      "processed  1000 events\n",
      "We have 1000 events\n",
      "low res PMT has shape (2, 2)\n",
      "high res truth has shape (20, 20)\n",
      "true positions have shape (3,)\n"
     ]
    }
   ],
   "source": [
    "run_id = 'mc0006'\n",
    "nmax = 1_000\n",
    "pmts_per_dim = 3.2\n",
    "\n",
    "# read data\n",
    "run_id_dir = os.path.join(DATA_DIR, run_id)\n",
    "files = glob.glob(run_id_dir + '/*.hd5f')\n",
    "\n",
    "print(f\"Reading data from {run_id_dir}\")\n",
    "print(f\"Found {len(files)} files\")\n",
    "\n",
    "true_pos, fine_top, top = read_events(files, nmax=nmax)\n",
    "    "
   ]
  },
  {
   "cell_type": "code",
   "execution_count": 120,
   "metadata": {},
   "outputs": [
    {
     "data": {
      "image/png": "[encoded data removed]",
      "text/plain": [
       "<Figure size 1000x400 with 2 Axes>"
      ]
     },
     "metadata": {},
     "output_type": "display_data"
    }
   ],
   "source": [
    "# check if data is ok\n",
    "num = 4\n",
    "fig, ax = plt.subplots(1, 2, figsize=(10, 4))\n",
    "ax = ax.ravel()\n",
    "r = 3.2\n",
    "\n",
    "ax[0].imshow(\n",
    "    top[num], \n",
    "    interpolation=\"nearest\", \n",
    "    origin=\"lower\", \n",
    "    extent=[-r, r, -r, r]\n",
    ")\n",
    "\n",
    "ax[1].imshow(\n",
    "    fine_top[num],\n",
    "    interpolation=\"nearest\",\n",
    "    origin=\"lower\",\n",
    "    extent=[-r, r, -r, r],\n",
    ")\n",
    "\n",
    "for i in range(2):\n",
    "    ax[i].plot(\n",
    "        true_pos[num][0],\n",
    "        true_pos[num][1],\n",
    "        marker=\"x\",\n",
    "        markersize=10,\n",
    "        color=\"red\",\n",
    "        label=\"true position\",\n",
    "    )\n",
    "\n",
    "plt.xlabel(\"x (cm)\")\n",
    "plt.ylabel(\"y (cm)\")\n",
    "plt.show()"
   ]
  },
  {
   "cell_type": "code",
   "execution_count": null,
   "metadata": {},
   "outputs": [],
   "source": []
  },
  {
   "cell_type": "code",
   "execution_count": 121,
   "metadata": {},
   "outputs": [],
   "source": [
    "pmts_per_dim = 5"
   ]
  },
  {
   "cell_type": "code",
   "execution_count": 122,
   "metadata": {},
   "outputs": [],
   "source": [
    "# create train and test sets\n",
    "y = np.asarray(fine_top)\n",
    "X = np.asarray(top)\n",
    "pos = [pos[:2] for pos in true_pos] # depth is not used\n",
    "\n",
    "X_train, y_train, pos_train, X_test, y_test, pos_test = create_datasets(\n",
    "    X, y, pos, train_fraction=0.8\n",
    ")\n",
    "\n",
    "y_test_downsampled = model_utils.downsample_heatmaps_to_dimensions(y_test,pmts_per_dim,pmts_per_dim)"
   ]
  },
  {
   "cell_type": "code",
   "execution_count": 123,
   "metadata": {},
   "outputs": [],
   "source": [
    "   \n",
    "wa_pred = weighted_average_estimator(X_test, r=2.5)\n",
    "wa_mse = mse(pos_test, wa_pred)\n",
    "wa_r2 = r_squared(pos_test, wa_pred)"
   ]
  },
  {
   "cell_type": "code",
   "execution_count": 124,
   "metadata": {},
   "outputs": [
    {
     "name": "stdout",
     "output_type": "stream",
     "text": [
      "model1.pkl  model5.pkl\t\t     scaling_model_2x2.pkl\n",
      "model2.pkl  model6.pkl\t\t     scaling_model_500kdata_20x20.pkl\n",
      "model3.pkl  model_idiot.pkl\t     scaling_model_5x5.pkl\n",
      "model4.pkl  scaling_model_20x20.pkl\n"
     ]
    }
   ],
   "source": [
    "!ls /data/xenon/cfuselli/software/OptoSim/_trash/models/"
   ]
  },
  {
   "cell_type": "code",
   "execution_count": 125,
   "metadata": {},
   "outputs": [
    {
     "ename": "ModuleNotFoundError",
     "evalue": "No module named 'Model'",
     "output_type": "error",
     "traceback": [
      "\u001b[0;31m---------------------------------------------------------------------------\u001b[0m",
      "\u001b[0;31mModuleNotFoundError\u001b[0m                       Traceback (most recent call last)",
      "\u001b[1;32m/user/cfuselli/cfuselli/software/OptoSim/notebook/results/Results.ipynb Cell 12\u001b[0m line \u001b[0;36m5\n\u001b[1;32m      <a href='vscode-notebook-cell://ssh-remote%2Bnikhef/user/cfuselli/cfuselli/software/OptoSim/notebook/results/Results.ipynb#X12sdnNjb2RlLXJlbW90ZQ%3D%3D?line=1'>2</a>\u001b[0m base \u001b[39m=\u001b[39m \u001b[39m'\u001b[39m\u001b[39m/data/xenon/cfuselli/software/OptoSim/_trash/models/\u001b[39m\u001b[39m'\u001b[39m\n\u001b[1;32m      <a href='vscode-notebook-cell://ssh-remote%2Bnikhef/user/cfuselli/cfuselli/software/OptoSim/notebook/results/Results.ipynb#X12sdnNjb2RlLXJlbW90ZQ%3D%3D?line=3'>4</a>\u001b[0m \u001b[39mwith\u001b[39;00m \u001b[39mopen\u001b[39m(base\u001b[39m+\u001b[39m\u001b[39m'\u001b[39m\u001b[39mmodel1.pkl\u001b[39m\u001b[39m'\u001b[39m, \u001b[39m'\u001b[39m\u001b[39mrb\u001b[39m\u001b[39m'\u001b[39m) \u001b[39mas\u001b[39;00m f:\n\u001b[0;32m----> <a href='vscode-notebook-cell://ssh-remote%2Bnikhef/user/cfuselli/cfuselli/software/OptoSim/notebook/results/Results.ipynb#X12sdnNjb2RlLXJlbW90ZQ%3D%3D?line=4'>5</a>\u001b[0m     model1 \u001b[39m=\u001b[39m pickle\u001b[39m.\u001b[39;49mload(f) \u001b[39m#20x20\u001b[39;00m\n",
      "\u001b[0;31mModuleNotFoundError\u001b[0m: No module named 'Model'"
     ]
    }
   ],
   "source": [
    "# load the trained models\n",
    "base = '/data/xenon/cfuselli/software/OptoSim/_trash/models/'\n",
    "\n",
    "with open(base+'model1.pkl', 'rb') as f:\n",
    "    model1 = pickle.load(f) #20x20\n"
   ]
  },
  {
   "cell_type": "code",
   "execution_count": null,
   "metadata": {},
   "outputs": [],
   "source": []
  },
  {
   "cell_type": "code",
   "execution_count": null,
   "metadata": {},
   "outputs": [],
   "source": []
  },
  {
   "cell_type": "code",
   "execution_count": null,
   "metadata": {},
   "outputs": [],
   "source": []
  }
 ],
 "metadata": {
  "kernelspec": {
   "display_name": "venv_optosim",
   "language": "python",
   "name": "python3"
  },
  "language_info": {
   "codemirror_mode": {
    "name": "ipython",
    "version": 3
   },
   "file_extension": ".py",
   "mimetype": "text/x-python",
   "name": "python",
   "nbconvert_exporter": "python",
   "pygments_lexer": "ipython3",
   "version": "3.9.18"
  },
  "orig_nbformat": 4
 },
 "nbformat": 4,
 "nbformat_minor": 2
}
