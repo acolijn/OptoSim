{
 "cells": [
  {
   "cell_type": "code",
   "execution_count": 1,
   "id": "bd0a2f7c",
   "metadata": {},
   "outputs": [],
   "source": [
    "import sys\n",
    "sys.path.insert(0,'../python/')\n",
    "import matplotlib.pyplot as plt\n",
    "import matplotlib as mpl\n",
    "from Generator import *"
   ]
  },
  {
   "cell_type": "markdown",
   "id": "763b6a8d",
   "metadata": {},
   "source": [
    "### Test the functionality of the Generator class"
   ]
  },
  {
   "cell_type": "code",
   "execution_count": 2,
   "id": "3aeac156",
   "metadata": {},
   "outputs": [
    {
     "name": "stdout",
     "output_type": "stream",
     "text": [
      "Generator::Reading configuration from file: ../runit/config.json\n",
      "OpticalPhoton::Reading configuration from file: ../runit/config.json\n",
      "'set_no_scatter' not in config: setting to False\n",
      "'set_experimental_scatter_model' not in config: setting to True\n"
     ]
    }
   ],
   "source": [
    "gen = Generator(config='../runit/config.json')"
   ]
  },
  {
   "cell_type": "code",
   "execution_count": 3,
   "id": "75151f45",
   "metadata": {},
   "outputs": [
    {
     "name": "stdout",
     "output_type": "stream",
     "text": [
      "Generating event 0 of 10\n",
      "2593\n"
     ]
    },
    {
     "name": "stderr",
     "output_type": "stream",
     "text": [
      "/user/z37/OptoSim/notebook/../python/OpticalPhoton.py:448: RuntimeWarning: invalid value encountered in sqrt\n",
      "  refracted_dir = (n1 / n2) * (in_dir + dot_product * nvec) - np.sqrt(1.0 - (n1 / n2)**2 * (1.0 - dot_product**2)) * nvec\n",
      "/user/z37/OptoSim/notebook/../python/OpticalPhoton.py:448: RuntimeWarning: invalid value encountered in sqrt\n",
      "  refracted_dir = (n1 / n2) * (in_dir + dot_product * nvec) - np.sqrt(1.0 - (n1 / n2)**2 * (1.0 - dot_product**2)) * nvec\n"
     ]
    },
    {
     "name": "stdout",
     "output_type": "stream",
     "text": [
      "19335\n",
      "8790\n",
      "3295\n",
      "9727\n",
      "14817\n",
      "17827\n",
      "12487\n",
      "7702\n",
      "4536\n",
      "CPU times: user 19.6 s, sys: 582 ms, total: 20.2 s\n",
      "Wall time: 19.9 s\n"
     ]
    },
    {
     "data": {
      "text/plain": [
       "0"
      ]
     },
     "execution_count": 3,
     "metadata": {},
     "output_type": "execute_result"
    }
   ],
   "source": [
    "%%time\n",
    "gen.generate_batch()"
   ]
  },
  {
   "cell_type": "code",
   "execution_count": null,
   "id": "8da6d81e",
   "metadata": {},
   "outputs": [],
   "source": [
    "import h5py\n",
    "import json\n",
    "\n",
    "# Open the HDF5 file in read mode\n",
    "with h5py.File('/data/xenon/acolijn/optosim/data/event0.hd5f', 'r') as hf:\n",
    "    \n",
    "    # Access the 'config' group\n",
    "    config = json.loads(hf.attrs['config'])\n",
    "    print(config)\n",
    "    print(config['geometry']['radius'])\n",
    "    r = config['geometry']['radius']\n",
    "\n",
    "    # Print the structure of the 'events' dataset\n",
    "    events = hf['events']\n",
    "    print(events)\n",
    "\n",
    "    # Iterate over the elements in the dataset\n",
    "    for event in events:\n",
    "        event = events[event]\n",
    "        # Print the structure of each element\n",
    "        print(event['number'][()])\n",
    "        #print(np.array(event['true_position']))\n",
    "        #print(np.array(event['pmt']))\n",
    "        #print(np.array(event['fine']))\n",
    "        truth = np.array(event['true_position'])\n",
    "        \n",
    "        fig, axs = plt.subplots(1, 2, figsize=(10, 4))\n",
    "\n",
    "        fine = np.array(event['fine'])\n",
    "        axs[0].imshow(fine.T, cmap='viridis', interpolation='nearest', origin='lower', extent=[-r,r,-r,r])\n",
    "        axs[0].plot(truth[0], truth[1], marker='o', markersize=10, color='red', label='Marker')\n",
    "\n",
    "        pmt = np.array(event['pmt'])\n",
    "        axs[1].imshow(pmt.T, cmap='viridis', interpolation='nearest', origin='lower', extent=[-r,r,-r,r])\n",
    "        axs[1].plot(truth[0], truth[1], marker='o', markersize=10, color='red', label='Marker')\n",
    "\n",
    "        plt.show()\n",
    "        input(\"Press Enter to continue to the next iteration...\")\n",
    "\n",
    "\n",
    "        \n",
    "        # Access the data within each element\n",
    "        #data = str(event[()]\n",
    "        #print(data)\n",
    "\n"
   ]
  },
  {
   "cell_type": "code",
   "execution_count": 5,
   "id": "bb305283",
   "metadata": {},
   "outputs": [
    {
     "data": {
      "text/plain": [
       "'xams_dummy.hd5f'"
      ]
     },
     "execution_count": 5,
     "metadata": {},
     "output_type": "execute_result"
    }
   ],
   "source": [
    "gen.config['filename']"
   ]
  },
  {
   "cell_type": "code",
   "execution_count": null,
   "id": "ac5cc4e6",
   "metadata": {},
   "outputs": [],
   "source": []
  }
 ],
 "metadata": {
  "kernelspec": {
   "display_name": "Python 3 (ipykernel)",
   "language": "python",
   "name": "python3"
  },
  "language_info": {
   "codemirror_mode": {
    "name": "ipython",
    "version": 3
   },
   "file_extension": ".py",
   "mimetype": "text/x-python",
   "name": "python",
   "nbconvert_exporter": "python",
   "pygments_lexer": "ipython3",
   "version": "3.11.5"
  }
 },
 "nbformat": 4,
 "nbformat_minor": 5
}
