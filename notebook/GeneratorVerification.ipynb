{
 "cells": [
  {
   "cell_type": "code",
   "execution_count": 1,
   "id": "bd0a2f7c",
   "metadata": {},
   "outputs": [],
   "source": [
    "import sys\n",
    "sys.path.insert(0,'../python/')\n",
    "import matplotlib.pyplot as plt\n",
    "import matplotlib as mpl\n",
    "from Generator import *"
   ]
  },
  {
   "cell_type": "markdown",
   "id": "634accb6",
   "metadata": {},
   "source": [
    "### Test the functionality of the Generator class"
   ]
  },
  {
   "cell_type": "code",
   "execution_count": 5,
   "id": "3aeac156",
   "metadata": {},
   "outputs": [
    {
     "name": "stdout",
     "output_type": "stream",
     "text": [
      "Generator::Reading configuration from file: config.json\n",
      "OpticalPhoton::Reading configuration from file: config.json\n"
     ]
    }
   ],
   "source": [
    "gen = Generator(config='config.json')"
   ]
  },
  {
   "cell_type": "code",
   "execution_count": 3,
   "id": "75151f45",
   "metadata": {},
   "outputs": [
    {
     "name": "stdout",
     "output_type": "stream",
     "text": [
      "Generating event 0 of 10\n",
      "Generating event 1 of 10\n",
      "Generating event 2 of 10\n",
      "Generating event 3 of 10\n",
      "Generating event 4 of 10\n",
      "Generating event 5 of 10\n",
      "Generating event 6 of 10\n",
      "Generating event 7 of 10\n",
      "Generating event 8 of 10\n",
      "Generating event 9 of 10\n"
     ]
    },
    {
     "data": {
      "text/plain": [
       "0"
      ]
     },
     "execution_count": 3,
     "metadata": {},
     "output_type": "execute_result"
    }
   ],
   "source": [
    "gen.generate_batch(10)"
   ]
  },
  {
   "cell_type": "code",
   "execution_count": null,
   "id": "8da6d81e",
   "metadata": {},
   "outputs": [],
   "source": [
    "import h5py\n",
    "import json\n",
    "\n",
    "# Open the HDF5 file in read mode\n",
    "with h5py.File('/data/xenon/acolijn/optosim/data/testrun.hd5f', 'r') as hf:\n",
    "    \n",
    "    # Access the 'config' group\n",
    "    config = json.loads(hf.attrs['config'])\n",
    "    print(config)\n",
    "    print(config['geometry']['radius'])\n",
    "    r = config['geometry']['radius']\n",
    "\n",
    "    # Print the structure of the 'events' dataset\n",
    "    events = hf['events']\n",
    "    print(events)\n",
    "\n",
    "    # Iterate over the elements in the dataset\n",
    "    for event in events:\n",
    "        event = events[event]\n",
    "        # Print the structure of each element\n",
    "        print(event['number'][()])\n",
    "        #print(np.array(event['true_position']))\n",
    "        #print(np.array(event['pmt']))\n",
    "        #print(np.array(event['fine']))\n",
    "        truth = np.array(event['true_position'])\n",
    "        \n",
    "        fig, axs = plt.subplots(1, 2, figsize=(10, 4))\n",
    "\n",
    "        fine = np.array(event['fine'])\n",
    "        axs[0].imshow(fine.T, cmap='viridis', interpolation='nearest', origin='lower', extent=[-r,r,-r,r])\n",
    "        axs[0].plot(truth[0], truth[1], marker='o', markersize=10, color='red', label='Marker')\n",
    "\n",
    "        pmt = np.array(event['pmt'])\n",
    "        axs[1].imshow(pmt.T, cmap='viridis', interpolation='nearest', origin='lower', extent=[-r,r,-r,r])\n",
    "        axs[1].plot(truth[0], truth[1], marker='o', markersize=10, color='red', label='Marker')\n",
    "\n",
    "        plt.show()\n",
    "        input(\"Press Enter to continue to the next iteration...\")\n",
    "\n",
    "\n",
    "        \n",
    "        # Access the data within each element\n",
    "        #data = str(event[()]\n",
    "        #print(data)\n",
    "\n"
   ]
  },
  {
   "cell_type": "code",
   "execution_count": 6,
   "id": "50572a20",
   "metadata": {},
   "outputs": [],
   "source": [
    "cfg=gen.config\n"
   ]
  },
  {
   "cell_type": "code",
   "execution_count": 7,
   "id": "67599f69",
   "metadata": {},
   "outputs": [
    {
     "name": "stdout",
     "output_type": "stream",
     "text": [
      "{'filename': 'dummy.hd5f', 'nevents': 100, 'nphoton_per_event': 10000, 'photon_zgen': 0.1, 'geometry': {'type': 'cylinder', 'radius': 2.5, 'ztop': 1.0, 'zliq': 0.0, 'zbot': -10.0}, 'npmt_xy': 2, 'pmt': {'type': 'square', 'size': 2.54, 'ndivs': 5}}\n"
     ]
    }
   ],
   "source": [
    "print(cfg)"
   ]
  },
  {
   "cell_type": "code",
   "execution_count": 8,
   "id": "30d99e2c",
   "metadata": {},
   "outputs": [
    {
     "name": "stdout",
     "output_type": "stream",
     "text": [
      "{\n",
      "    \"filename\": \"dummy.hd5f\",\n",
      "    \"nevents\": 100,\n",
      "    \"nphoton_per_event\": 10000,\n",
      "    \"photon_zgen\": 0.1,\n",
      "    \"geometry\": {\n",
      "        \"type\": \"cylinder\",\n",
      "        \"radius\": 2.5,\n",
      "        \"ztop\": 1.0,\n",
      "        \"zliq\": 0.0,\n",
      "        \"zbot\": -10.0\n",
      "    },\n",
      "    \"npmt_xy\": 2,\n",
      "    \"pmt\": {\n",
      "        \"type\": \"square\",\n",
      "        \"size\": 2.54,\n",
      "        \"ndivs\": 5\n",
      "    }\n",
      "}\n"
     ]
    }
   ],
   "source": [
    "formatted_data = json.dumps(cfg, indent=4)\n",
    "print(formatted_data)"
   ]
  },
  {
   "cell_type": "code",
   "execution_count": null,
   "id": "92bbf49f",
   "metadata": {},
   "outputs": [],
   "source": []
  }
 ],
 "metadata": {
  "kernelspec": {
   "display_name": "Python 3 (ipykernel)",
   "language": "python",
   "name": "python3"
  },
  "language_info": {
   "codemirror_mode": {
    "name": "ipython",
    "version": 3
   },
   "file_extension": ".py",
   "mimetype": "text/x-python",
   "name": "python",
   "nbconvert_exporter": "python",
   "pygments_lexer": "ipython3",
   "version": "3.11.5"
  }
 },
 "nbformat": 4,
 "nbformat_minor": 5
}
