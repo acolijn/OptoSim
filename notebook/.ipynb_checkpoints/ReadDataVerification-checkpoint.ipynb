{
 "cells": [
  {
   "cell_type": "code",
   "execution_count": 4,
   "id": "8f449326",
   "metadata": {},
   "outputs": [],
   "source": [
    "import h5py\n",
    "import json\n",
    "import numpy as np\n",
    "import matplotlib.pyplot as plt\n",
    "import matplotlib as mpl\n",
    "import glob\n",
    "from IPython.display import display, JSON\n",
    "import pprint"
   ]
  },
  {
   "cell_type": "code",
   "execution_count": 5,
   "id": "c49e6eef",
   "metadata": {},
   "outputs": [],
   "source": [
    "data_dir = '/data/xenon/acolijn/optosim/data/mc0000/'"
   ]
  },
  {
   "cell_type": "code",
   "execution_count": 6,
   "id": "a7eb4fe2",
   "metadata": {},
   "outputs": [
    {
     "name": "stdout",
     "output_type": "stream",
     "text": [
      "['/data/xenon/acolijn/optosim/data/mc0000/mc0000.0001.hd5f']\n"
     ]
    },
    {
     "ename": "BlockingIOError",
     "evalue": "[Errno 11] Unable to open file (unable to lock file, errno = 11, error message = 'Resource temporarily unavailable')",
     "output_type": "error",
     "traceback": [
      "\u001b[0;31m---------------------------------------------------------------------------\u001b[0m",
      "\u001b[0;31mBlockingIOError\u001b[0m                           Traceback (most recent call last)",
      "Cell \u001b[0;32mIn[6], line 14\u001b[0m\n\u001b[1;32m     12\u001b[0m first_file \u001b[38;5;241m=\u001b[39m \u001b[38;5;28;01mTrue\u001b[39;00m\n\u001b[1;32m     13\u001b[0m \u001b[38;5;28;01mfor\u001b[39;00m hdf5_file \u001b[38;5;129;01min\u001b[39;00m hdf5_files:\n\u001b[0;32m---> 14\u001b[0m     \u001b[38;5;28;01mwith\u001b[39;00m h5py\u001b[38;5;241m.\u001b[39mFile(hdf5_file, \u001b[38;5;124m'\u001b[39m\u001b[38;5;124mr\u001b[39m\u001b[38;5;124m'\u001b[39m) \u001b[38;5;28;01mas\u001b[39;00m f:\n\u001b[1;32m     15\u001b[0m         \u001b[38;5;28mprint\u001b[39m(\u001b[38;5;124mf\u001b[39m\u001b[38;5;124m\"\u001b[39m\u001b[38;5;124mReading file: \u001b[39m\u001b[38;5;132;01m{\u001b[39;00mhdf5_file\u001b[38;5;132;01m}\u001b[39;00m\u001b[38;5;124m\"\u001b[39m)\n\u001b[1;32m     16\u001b[0m         config \u001b[38;5;241m=\u001b[39m f\u001b[38;5;241m.\u001b[39mattrs[\u001b[38;5;124m'\u001b[39m\u001b[38;5;124mconfig\u001b[39m\u001b[38;5;124m'\u001b[39m]\n",
      "File \u001b[0;32m/data/xenon/miniconda3/envs/py39/lib/python3.11/site-packages/h5py/_hl/files.py:567\u001b[0m, in \u001b[0;36mFile.__init__\u001b[0;34m(self, name, mode, driver, libver, userblock_size, swmr, rdcc_nslots, rdcc_nbytes, rdcc_w0, track_order, fs_strategy, fs_persist, fs_threshold, fs_page_size, page_buf_size, min_meta_keep, min_raw_keep, locking, alignment_threshold, alignment_interval, meta_block_size, **kwds)\u001b[0m\n\u001b[1;32m    558\u001b[0m     fapl \u001b[38;5;241m=\u001b[39m make_fapl(driver, libver, rdcc_nslots, rdcc_nbytes, rdcc_w0,\n\u001b[1;32m    559\u001b[0m                      locking, page_buf_size, min_meta_keep, min_raw_keep,\n\u001b[1;32m    560\u001b[0m                      alignment_threshold\u001b[38;5;241m=\u001b[39malignment_threshold,\n\u001b[1;32m    561\u001b[0m                      alignment_interval\u001b[38;5;241m=\u001b[39malignment_interval,\n\u001b[1;32m    562\u001b[0m                      meta_block_size\u001b[38;5;241m=\u001b[39mmeta_block_size,\n\u001b[1;32m    563\u001b[0m                      \u001b[38;5;241m*\u001b[39m\u001b[38;5;241m*\u001b[39mkwds)\n\u001b[1;32m    564\u001b[0m     fcpl \u001b[38;5;241m=\u001b[39m make_fcpl(track_order\u001b[38;5;241m=\u001b[39mtrack_order, fs_strategy\u001b[38;5;241m=\u001b[39mfs_strategy,\n\u001b[1;32m    565\u001b[0m                      fs_persist\u001b[38;5;241m=\u001b[39mfs_persist, fs_threshold\u001b[38;5;241m=\u001b[39mfs_threshold,\n\u001b[1;32m    566\u001b[0m                      fs_page_size\u001b[38;5;241m=\u001b[39mfs_page_size)\n\u001b[0;32m--> 567\u001b[0m     fid \u001b[38;5;241m=\u001b[39m make_fid(name, mode, userblock_size, fapl, fcpl, swmr\u001b[38;5;241m=\u001b[39mswmr)\n\u001b[1;32m    569\u001b[0m \u001b[38;5;28;01mif\u001b[39;00m \u001b[38;5;28misinstance\u001b[39m(libver, \u001b[38;5;28mtuple\u001b[39m):\n\u001b[1;32m    570\u001b[0m     \u001b[38;5;28mself\u001b[39m\u001b[38;5;241m.\u001b[39m_libver \u001b[38;5;241m=\u001b[39m libver\n",
      "File \u001b[0;32m/data/xenon/miniconda3/envs/py39/lib/python3.11/site-packages/h5py/_hl/files.py:231\u001b[0m, in \u001b[0;36mmake_fid\u001b[0;34m(name, mode, userblock_size, fapl, fcpl, swmr)\u001b[0m\n\u001b[1;32m    229\u001b[0m     \u001b[38;5;28;01mif\u001b[39;00m swmr \u001b[38;5;129;01mand\u001b[39;00m swmr_support:\n\u001b[1;32m    230\u001b[0m         flags \u001b[38;5;241m|\u001b[39m\u001b[38;5;241m=\u001b[39m h5f\u001b[38;5;241m.\u001b[39mACC_SWMR_READ\n\u001b[0;32m--> 231\u001b[0m     fid \u001b[38;5;241m=\u001b[39m h5f\u001b[38;5;241m.\u001b[39mopen(name, flags, fapl\u001b[38;5;241m=\u001b[39mfapl)\n\u001b[1;32m    232\u001b[0m \u001b[38;5;28;01melif\u001b[39;00m mode \u001b[38;5;241m==\u001b[39m \u001b[38;5;124m'\u001b[39m\u001b[38;5;124mr+\u001b[39m\u001b[38;5;124m'\u001b[39m:\n\u001b[1;32m    233\u001b[0m     fid \u001b[38;5;241m=\u001b[39m h5f\u001b[38;5;241m.\u001b[39mopen(name, h5f\u001b[38;5;241m.\u001b[39mACC_RDWR, fapl\u001b[38;5;241m=\u001b[39mfapl)\n",
      "File \u001b[0;32mh5py/_objects.pyx:54\u001b[0m, in \u001b[0;36mh5py._objects.with_phil.wrapper\u001b[0;34m()\u001b[0m\n",
      "File \u001b[0;32mh5py/_objects.pyx:55\u001b[0m, in \u001b[0;36mh5py._objects.with_phil.wrapper\u001b[0;34m()\u001b[0m\n",
      "File \u001b[0;32mh5py/h5f.pyx:106\u001b[0m, in \u001b[0;36mh5py.h5f.open\u001b[0;34m()\u001b[0m\n",
      "\u001b[0;31mBlockingIOError\u001b[0m: [Errno 11] Unable to open file (unable to lock file, errno = 11, error message = 'Resource temporarily unavailable')"
     ]
    }
   ],
   "source": [
    "# Get a list of all HDF5 files in the current directory\n",
    "hdf5_files = glob.glob(data_dir+'*0001.hd5f')\n",
    "print(hdf5_files)\n",
    "\n",
    "# Read each file\n",
    "xp = []\n",
    "yp = []\n",
    "q_tb = []\n",
    "q_lr = []\n",
    "q_tot = []\n",
    "\n",
    "first_file = True\n",
    "for hdf5_file in hdf5_files:\n",
    "    with h5py.File(hdf5_file, 'r') as f:\n",
    "        print(f\"Reading file: {hdf5_file}\")\n",
    "        config = f.attrs['config']\n",
    "\n",
    "        if first_file:\n",
    "            display(config)\n",
    "            first_file = False\n",
    "        events_group = f['events']\n",
    "\n",
    "        # Loop through all events in the events group\n",
    "        for event_name, event_group in events_group.items():\n",
    "            # Extract PMT and fine signals for each event\n",
    "            x_true = event_group['true_position'][()]\n",
    "            xp.append(x_true[0])\n",
    "            yp.append(x_true[1])\n",
    "            \n",
    "            \n",
    "            pmt = event_group['pmt_top'][()]\n",
    "            qtot = float(np.sum(pmt))\n",
    "            q_tb.append((pmt[0][0]+pmt[1][0])/qtot)\n",
    "            q_lr.append((pmt[0][0]+pmt[0][1])/qtot)\n",
    "            q_tot.append(qtot)\n",
    "            \n",
    "            fine_signal_top = event_group['fine_top'][()]\n",
    "            pmt_signal_bot = event_group['pmt_bot'][()]\n",
    "            fine_signal_bot = event_group['fine_bot'][()]\n",
    "            \n",
    "print('Done')"
   ]
  },
  {
   "cell_type": "code",
   "execution_count": null,
   "id": "952cfbd6",
   "metadata": {},
   "outputs": [],
   "source": [
    "fig, axs = plt.subplots(1, 2, figsize=(10, 4))\n",
    "\n",
    "h1 = axs[0].hist2d(xp,q_lr,bins=(100,100))\n",
    "axs[0].set_xlabel('$x_{true} (cm)$')\n",
    "axs[0].set_ylabel('$Q_L / Q_{tot}$')\n",
    "\n",
    "h2 = axs[1].hist2d(yp,q_tb,bins=(100,100))\n",
    "axs[1].set_xlabel('$y_{true} (cm)$')\n",
    "axs[1].set_ylabel('$Q_B / Q_{tot}$')"
   ]
  },
  {
   "cell_type": "code",
   "execution_count": null,
   "id": "cc671a30",
   "metadata": {},
   "outputs": [],
   "source": [
    "xp = np.array(xp)\n",
    "yp = np.array(yp)\n",
    "q_tot = np.array(q_tot)\n",
    "r2 = np.sqrt(xp**2+yp**2)\n",
    "h=plt.hist2d(r2,q_tot,bins=100, range=((0,2.54),(0,3500)))"
   ]
  },
  {
   "cell_type": "code",
   "execution_count": null,
   "id": "caf4d310",
   "metadata": {},
   "outputs": [],
   "source": [
    "xp = np.array(xp)\n",
    "yp = np.array(yp)\n",
    "q_tot = np.array(q_tot)\n",
    "r2 = np.sqrt(xp**2+yp**2)\n",
    "h=plt.hist2d(r2,q_tot,bins=100, range=((0,2.54),(0,3500)))"
   ]
  },
  {
   "cell_type": "code",
   "execution_count": null,
   "id": "17bd86c3",
   "metadata": {},
   "outputs": [],
   "source": [
    "plt.hist(q_tot_noscat, bins=100, range=(1500,3500), histtype='step')\n",
    "plt.hist(q_tot,  bins=100, range=(1500,3500), histtype='step')\n",
    "plt.show()"
   ]
  },
  {
   "cell_type": "code",
   "execution_count": null,
   "id": "596060ce",
   "metadata": {},
   "outputs": [],
   "source": [
    "q_tot_noscat = q_tot"
   ]
  },
  {
   "cell_type": "code",
   "execution_count": null,
   "id": "5f8bcbbc",
   "metadata": {},
   "outputs": [],
   "source": [
    "# Open the HDF5 file in read mode\n",
    "with h5py.File('/data/xenon/acolijn/optosim/data/mctest/event0.hd5f', 'r') as hf:\n",
    "    \n",
    "    # Access the 'config' group\n",
    "    config = json.loads(hf.attrs['config'])\n",
    "    print(config)\n",
    "    print(config['geometry']['radius'])\n",
    "    r = config['geometry']['radius']\n",
    "\n",
    "    # Print the structure of the 'events' dataset\n",
    "    events = hf['events']\n",
    "    print(events)\n",
    "\n",
    "    # Iterate over the elements in the dataset\n",
    "    for event in events:\n",
    "        event = events[event]\n",
    "        print(event['number'][()])\n",
    "\n",
    "        truth = np.array(event['true_position'])\n",
    "        \n",
    "        fig, axs = plt.subplots(1, 2, figsize=(10, 4))\n",
    "        fine = np.array(event['fine'])\n",
    "        im = axs[0].imshow(fine.T, cmap='viridis', interpolation='nearest', origin='lower', extent=[-r,r,-r,r])\n",
    "        plt.colorbar(im, ax=axs[0])\n",
    "        axs[0].plot(truth[0], truth[1], marker='o', markersize=10, color='red', label='Marker')\n",
    "\n",
    "        pmt = np.array(event['pmt'])\n",
    "        im = axs[1].imshow(pmt.T, cmap='viridis', interpolation='nearest', origin='lower', extent=[-r,r,-r,r])\n",
    "        plt.colorbar(im, ax=axs[1])\n",
    "        axs[1].plot(truth[0], truth[1], marker='o', markersize=10, color='red', label='Marker')\n",
    "\n",
    "        plt.show()\n",
    "        input(\"Press Enter to continue to the next event...\")"
   ]
  },
  {
   "cell_type": "code",
   "execution_count": 1,
   "id": "141efe55",
   "metadata": {},
   "outputs": [],
   "source": [
    "import sys\n",
    "sys.path.insert(0,'../python/')\n",
    "from  EventReader import EventReader\n",
    "import glob"
   ]
  },
  {
   "cell_type": "code",
   "execution_count": 2,
   "id": "281fcbff",
   "metadata": {},
   "outputs": [
    {
     "name": "stdout",
     "output_type": "stream",
     "text": [
      "['/data/xenon/acolijn/optosim/data/mctest/event0.hd5f', '/data/xenon/acolijn/optosim/data/mctest/event1.hd5f', '/data/xenon/acolijn/optosim/data/mctest/event2.hd5f', '/data/xenon/acolijn/optosim/data/mctest/event3.hd5f', '/data/xenon/acolijn/optosim/data/mctest/event4.hd5f', '/data/xenon/acolijn/optosim/data/mctest/event5.hd5f', '/data/xenon/acolijn/optosim/data/mctest/event6.hd5f', '/data/xenon/acolijn/optosim/data/mctest/event7.hd5f', '/data/xenon/acolijn/optosim/data/mctest/event8.hd5f', '/data/xenon/acolijn/optosim/data/mctest/event9.hd5f']\n"
     ]
    }
   ],
   "source": [
    "files = glob.glob('/data/xenon/acolijn/optosim/data/mctest/*.hd5f')\n",
    "print(files)"
   ]
  },
  {
   "cell_type": "code",
   "execution_count": 12,
   "id": "609c9b33",
   "metadata": {},
   "outputs": [
    {
     "name": "stdout",
     "output_type": "stream",
     "text": [
      "number of files:  10\n"
     ]
    }
   ],
   "source": [
    "events = EventReader(files)"
   ]
  },
  {
   "cell_type": "code",
   "execution_count": 16,
   "id": "f62c6a7c",
   "metadata": {},
   "outputs": [
    {
     "name": "stdout",
     "output_type": "stream",
     "text": [
      "processed  0 events 0\n",
      "processed  1000 events 1899\n",
      "processed  2000 events 2799\n",
      "processed  3000 events 3699\n",
      "processed  4000 events 4599\n",
      "processed  5000 events 5499\n",
      "processed  6000 events 6399\n",
      "processed  7000 events 7299\n",
      "processed  8000 events 8199\n",
      "processed  9000 events 9099\n",
      "processed  10000 events 0\n",
      "huh\n",
      "CPU times: user 8.56 s, sys: 379 ms, total: 8.94 s\n",
      "Wall time: 14.7 s\n"
     ]
    }
   ],
   "source": [
    "%%time\n",
    "n = 0\n",
    "for ev in events:\n",
    "    if n%1000 == 0:\n",
    "        print('processed ',n,'events', ev['number'])\n",
    "    n+=1\n",
    "    \n",
    "    if n>10000:\n",
    "        break\n",
    "\n",
    "events.reset()"
   ]
  },
  {
   "cell_type": "code",
   "execution_count": 7,
   "id": "421fb534",
   "metadata": {},
   "outputs": [
    {
     "name": "stdout",
     "output_type": "stream",
     "text": [
      "{'filename': '/data/xenon/acolijn/optosim/data/event0.hd5f', 'nevents': 10000, 'nphoton_per_event': 10000, 'photon_zgen': 0.1, 'geometry': {'type': 'cylinder', 'radius': 2.5, 'ztop': 1.0, 'zliq': 0.0, 'zbot': -5.0}, 'npmt_xy': 2, 'pmt': {'type': 'square', 'size': 2.54, 'ndivs': 10}}\n"
     ]
    }
   ],
   "source": [
    "events.print_config()"
   ]
  },
  {
   "cell_type": "code",
   "execution_count": 18,
   "id": "eded6720",
   "metadata": {},
   "outputs": [
    {
     "name": "stdout",
     "output_type": "stream",
     "text": [
      "{'filename': '/data/xenon/acolijn/optosim/data/event0.hd5f', 'nevents': 10000, 'nphoton_per_event': 10000, 'photon_zgen': 0.1, 'geometry': {'type': 'cylinder', 'radius': 2.5, 'ztop': 1.0, 'zliq': 0.0, 'zbot': -5.0}, 'npmt_xy': 2, 'pmt': {'type': 'square', 'size': 2.54, 'ndivs': 10}}\n"
     ]
    }
   ],
   "source": [
    "events.print_config()\n"
   ]
  },
  {
   "cell_type": "code",
   "execution_count": null,
   "id": "82f760e3",
   "metadata": {},
   "outputs": [],
   "source": []
  }
 ],
 "metadata": {
  "kernelspec": {
   "display_name": "Python 3 (ipykernel)",
   "language": "python",
   "name": "python3"
  },
  "language_info": {
   "codemirror_mode": {
    "name": "ipython",
    "version": 3
   },
   "file_extension": ".py",
   "mimetype": "text/x-python",
   "name": "python",
   "nbconvert_exporter": "python",
   "pygments_lexer": "ipython3",
   "version": "3.11.5"
  }
 },
 "nbformat": 4,
 "nbformat_minor": 5
}
