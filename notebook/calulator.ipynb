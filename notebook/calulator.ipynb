{
 "cells": [
  {
   "cell_type": "code",
   "execution_count": 1,
   "id": "29af9d8d",
   "metadata": {},
   "outputs": [],
   "source": [
    "import numpy as np"
   ]
  },
  {
   "cell_type": "code",
   "execution_count": 2,
   "id": "26ecfa05",
   "metadata": {},
   "outputs": [],
   "source": [
    "nvec = np.array([-0.60418, 0.79684, 0])"
   ]
  },
  {
   "cell_type": "code",
   "execution_count": 6,
   "id": "65f9b38f",
   "metadata": {},
   "outputs": [],
   "source": [
    "t0 = np.array([-0.24128501, -0.42430658, -0.87278031])"
   ]
  },
  {
   "cell_type": "code",
   "execution_count": 9,
   "id": "75dddc88",
   "metadata": {},
   "outputs": [],
   "source": [
    "t1 = np.array([-0.47368418, -0.11780416, -0.87278031 ])"
   ]
  },
  {
   "cell_type": "code",
   "execution_count": 14,
   "id": "1642cb3b",
   "metadata": {},
   "outputs": [
    {
     "data": {
      "text/plain": [
       "1.7643270317686286"
      ]
     },
     "execution_count": 14,
     "metadata": {},
     "output_type": "execute_result"
    }
   ],
   "source": [
    "np.arccos(np.dot(nvec,t0))"
   ]
  },
  {
   "cell_type": "code",
   "execution_count": 16,
   "id": "15b583a3",
   "metadata": {},
   "outputs": [
    {
     "data": {
      "text/plain": [
       "1.7643214914945242"
      ]
     },
     "execution_count": 16,
     "metadata": {},
     "output_type": "execute_result"
    }
   ],
   "source": [
    "np.pi - np.arccos(np.dot(nvec,t1))"
   ]
  },
  {
   "cell_type": "code",
   "execution_count": null,
   "id": "1fce9c6c",
   "metadata": {},
   "outputs": [],
   "source": []
  }
 ],
 "metadata": {
  "kernelspec": {
   "display_name": "Python 3 (ipykernel)",
   "language": "python",
   "name": "python3"
  },
  "language_info": {
   "codemirror_mode": {
    "name": "ipython",
    "version": 3
   },
   "file_extension": ".py",
   "mimetype": "text/x-python",
   "name": "python",
   "nbconvert_exporter": "python",
   "pygments_lexer": "ipython3",
   "version": "3.9.17"
  }
 },
 "nbformat": 4,
 "nbformat_minor": 5
}
