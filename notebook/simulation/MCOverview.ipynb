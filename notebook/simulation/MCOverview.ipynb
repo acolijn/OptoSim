{
 "cells": [
  {
   "cell_type": "code",
   "execution_count": 1,
   "id": "b53754d6",
   "metadata": {},
   "outputs": [],
   "source": [
    "from  optosim.simulation.event_reader import show_data"
   ]
  },
  {
   "cell_type": "markdown",
   "id": "31fa9088",
   "metadata": {},
   "source": [
    "#### Get an overview of MC data"
   ]
  },
  {
   "cell_type": "code",
   "execution_count": 3,
   "id": "613361c5",
   "metadata": {},
   "outputs": [
    {
     "name": "stdout",
     "output_type": "stream",
     "text": [
      "Found 1 subdirectories\n",
      "Subdirectories:\n",
      "['mc0006']\n"
     ]
    },
    {
     "data": {
      "text/html": [
       "<div>\n",
       "<style scoped>\n",
       "    .dataframe tbody tr th:only-of-type {\n",
       "        vertical-align: middle;\n",
       "    }\n",
       "\n",
       "    .dataframe tbody tr th {\n",
       "        vertical-align: top;\n",
       "    }\n",
       "\n",
       "    .dataframe thead th {\n",
       "        text-align: right;\n",
       "    }\n",
       "</style>\n",
       "<table border=\"1\" class=\"dataframe\">\n",
       "  <thead>\n",
       "    <tr style=\"text-align: right;\">\n",
       "      <th></th>\n",
       "      <th>subdir</th>\n",
       "      <th>detector</th>\n",
       "      <th>nevents</th>\n",
       "      <th>nphoton_per_event</th>\n",
       "      <th>set_no_scatter</th>\n",
       "      <th>set_experimental_scatter_model</th>\n",
       "      <th>radius</th>\n",
       "    </tr>\n",
       "  </thead>\n",
       "  <tbody>\n",
       "    <tr>\n",
       "      <th>0</th>\n",
       "      <td>mc0006</td>\n",
       "      <td>XAMS</td>\n",
       "      <td>10000</td>\n",
       "      <td>[1000, 25000]</td>\n",
       "      <td>False</td>\n",
       "      <td>True</td>\n",
       "      <td>3.2</td>\n",
       "    </tr>\n",
       "  </tbody>\n",
       "</table>\n",
       "</div>"
      ],
      "text/plain": [
       "   subdir detector  nevents nphoton_per_event  set_no_scatter  \\\n",
       "0  mc0006     XAMS    10000     [1000, 25000]           False   \n",
       "\n",
       "   set_experimental_scatter_model  radius  \n",
       "0                            True     3.2  "
      ]
     },
     "execution_count": 3,
     "metadata": {},
     "output_type": "execute_result"
    }
   ],
   "source": [
    "show_data('/data/xenon/optosim/data/')"
   ]
  },
  {
   "cell_type": "code",
   "execution_count": null,
   "id": "afe7a063",
   "metadata": {},
   "outputs": [],
   "source": []
  }
 ],
 "metadata": {
  "kernelspec": {
   "display_name": "Python 3 (ipykernel)",
   "language": "python",
   "name": "python3"
  },
  "language_info": {
   "codemirror_mode": {
    "name": "ipython",
    "version": 3
   },
   "file_extension": ".py",
   "mimetype": "text/x-python",
   "name": "python",
   "nbconvert_exporter": "python",
   "pygments_lexer": "ipython3",
   "version": "3.9.18"
  }
 },
 "nbformat": 4,
 "nbformat_minor": 5
}
