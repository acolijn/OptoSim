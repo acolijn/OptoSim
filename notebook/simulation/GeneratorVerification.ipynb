{
 "cells": [
  {
   "cell_type": "code",
   "execution_count": 17,
   "id": "bd0a2f7c",
   "metadata": {},
   "outputs": [],
   "source": [
    "import matplotlib.pyplot as plt\n",
    "import matplotlib as mpl\n",
    "\n",
    "from optosim.simulation.generator import Generator\n",
    "from optosim.settings import CONFIG_DIR, PROJECT_DIR"
   ]
  },
  {
   "cell_type": "markdown",
   "id": "763b6a8d",
   "metadata": {},
   "source": [
    "### Test the functionality of the Generator class"
   ]
  },
  {
   "cell_type": "code",
   "execution_count": 29,
   "id": "3aeac156",
   "metadata": {},
   "outputs": [
    {
     "name": "stdout",
     "output_type": "stream",
     "text": [
      "Generator::Reading configuration from file: /data/xenon/cfuselli/software/OptoSim/optosim/config/config_example.json\n",
      "OpticalPhoton::Reading configuration from file: /data/xenon/cfuselli/software/OptoSim/optosim/config/config_example.json\n",
      "'set_no_scatter' not in config: setting to False\n",
      "'set_experimental_scatter_model' not in config: setting to True\n"
     ]
    }
   ],
   "source": [
    "config_file = CONFIG_DIR + '/config_nev10k_nph1k-25k.json'\n",
    "\n",
    "\n",
    "gen = Generator(filename=PROJECT_DIR+'/_trash/dummy.hd5f', config=config_file)"
   ]
  },
  {
   "cell_type": "code",
   "execution_count": 30,
   "id": "75151f45",
   "metadata": {},
   "outputs": [
    {
     "name": "stdout",
     "output_type": "stream",
     "text": [
      "Generating event 0 of 10\n",
      "13979\n"
     ]
    },
    {
     "name": "stderr",
     "output_type": "stream",
     "text": [
      "/data/xenon/cfuselli/software/OptoSim/optosim/simulation/optical_photon.py:446: RuntimeWarning: invalid value encountered in sqrt\n",
      "  refracted_dir = (n1 / n2) * (in_dir + dot_product * nvec) - np.sqrt(\n"
     ]
    },
    {
     "name": "stdout",
     "output_type": "stream",
     "text": [
      "20043\n",
      "15300\n",
      "9292\n",
      "15249\n",
      "8677\n",
      "12645\n",
      "2917\n",
      "21408\n",
      "19206\n",
      "CPU times: user 26.4 s, sys: 696 ms, total: 27.1 s\n",
      "Wall time: 26.7 s\n"
     ]
    },
    {
     "data": {
      "text/plain": [
       "0"
      ]
     },
     "execution_count": 30,
     "metadata": {},
     "output_type": "execute_result"
    }
   ],
   "source": [
    "%%time\n",
    "gen.generate_batch()"
   ]
  },
  {
   "cell_type": "code",
   "execution_count": 31,
   "id": "8da6d81e",
   "metadata": {},
   "outputs": [
    {
     "ename": "FileNotFoundError",
     "evalue": "[Errno 2] Unable to open file (unable to open file: name = '/data/xenon/acolijn/optosim/data/event0.hd5f', errno = 2, error message = 'No such file or directory', flags = 0, o_flags = 0)",
     "output_type": "error",
     "traceback": [
      "\u001b[0;31m---------------------------------------------------------------------------\u001b[0m",
      "\u001b[0;31mFileNotFoundError\u001b[0m                         Traceback (most recent call last)",
      "\u001b[1;32m/user/cfuselli/cfuselli/software/OptoSim/notebook/simulation/GeneratorVerification.ipynb Cell 5\u001b[0m line \u001b[0;36m5\n\u001b[1;32m      <a href='vscode-notebook-cell://ssh-remote%2Bnikhef/user/cfuselli/cfuselli/software/OptoSim/notebook/simulation/GeneratorVerification.ipynb#W4sdnNjb2RlLXJlbW90ZQ%3D%3D?line=1'>2</a>\u001b[0m \u001b[39mimport\u001b[39;00m \u001b[39mjson\u001b[39;00m\n\u001b[1;32m      <a href='vscode-notebook-cell://ssh-remote%2Bnikhef/user/cfuselli/cfuselli/software/OptoSim/notebook/simulation/GeneratorVerification.ipynb#W4sdnNjb2RlLXJlbW90ZQ%3D%3D?line=3'>4</a>\u001b[0m \u001b[39m# Open the HDF5 file in read mode\u001b[39;00m\n\u001b[0;32m----> <a href='vscode-notebook-cell://ssh-remote%2Bnikhef/user/cfuselli/cfuselli/software/OptoSim/notebook/simulation/GeneratorVerification.ipynb#W4sdnNjb2RlLXJlbW90ZQ%3D%3D?line=4'>5</a>\u001b[0m \u001b[39mwith\u001b[39;00m h5py\u001b[39m.\u001b[39;49mFile(\u001b[39m'\u001b[39;49m\u001b[39m/data/xenon/acolijn/optosim/data/event0.hd5f\u001b[39;49m\u001b[39m'\u001b[39;49m, \u001b[39m'\u001b[39;49m\u001b[39mr\u001b[39;49m\u001b[39m'\u001b[39;49m) \u001b[39mas\u001b[39;00m hf:\n\u001b[1;32m      <a href='vscode-notebook-cell://ssh-remote%2Bnikhef/user/cfuselli/cfuselli/software/OptoSim/notebook/simulation/GeneratorVerification.ipynb#W4sdnNjb2RlLXJlbW90ZQ%3D%3D?line=5'>6</a>\u001b[0m     \n\u001b[1;32m      <a href='vscode-notebook-cell://ssh-remote%2Bnikhef/user/cfuselli/cfuselli/software/OptoSim/notebook/simulation/GeneratorVerification.ipynb#W4sdnNjb2RlLXJlbW90ZQ%3D%3D?line=6'>7</a>\u001b[0m     \u001b[39m# Access the 'config' group\u001b[39;00m\n\u001b[1;32m      <a href='vscode-notebook-cell://ssh-remote%2Bnikhef/user/cfuselli/cfuselli/software/OptoSim/notebook/simulation/GeneratorVerification.ipynb#W4sdnNjb2RlLXJlbW90ZQ%3D%3D?line=7'>8</a>\u001b[0m     config \u001b[39m=\u001b[39m json\u001b[39m.\u001b[39mloads(hf\u001b[39m.\u001b[39mattrs[\u001b[39m'\u001b[39m\u001b[39mconfig\u001b[39m\u001b[39m'\u001b[39m])\n\u001b[1;32m      <a href='vscode-notebook-cell://ssh-remote%2Bnikhef/user/cfuselli/cfuselli/software/OptoSim/notebook/simulation/GeneratorVerification.ipynb#W4sdnNjb2RlLXJlbW90ZQ%3D%3D?line=8'>9</a>\u001b[0m     \u001b[39mprint\u001b[39m(config)\n",
      "File \u001b[0;32m~/cfuselli/software/OptoSim/venv_optosim/lib/python3.9/site-packages/h5py/_hl/files.py:567\u001b[0m, in \u001b[0;36mFile.__init__\u001b[0;34m(self, name, mode, driver, libver, userblock_size, swmr, rdcc_nslots, rdcc_nbytes, rdcc_w0, track_order, fs_strategy, fs_persist, fs_threshold, fs_page_size, page_buf_size, min_meta_keep, min_raw_keep, locking, alignment_threshold, alignment_interval, meta_block_size, **kwds)\u001b[0m\n\u001b[1;32m    558\u001b[0m     fapl \u001b[39m=\u001b[39m make_fapl(driver, libver, rdcc_nslots, rdcc_nbytes, rdcc_w0,\n\u001b[1;32m    559\u001b[0m                      locking, page_buf_size, min_meta_keep, min_raw_keep,\n\u001b[1;32m    560\u001b[0m                      alignment_threshold\u001b[39m=\u001b[39malignment_threshold,\n\u001b[1;32m    561\u001b[0m                      alignment_interval\u001b[39m=\u001b[39malignment_interval,\n\u001b[1;32m    562\u001b[0m                      meta_block_size\u001b[39m=\u001b[39mmeta_block_size,\n\u001b[1;32m    563\u001b[0m                      \u001b[39m*\u001b[39m\u001b[39m*\u001b[39mkwds)\n\u001b[1;32m    564\u001b[0m     fcpl \u001b[39m=\u001b[39m make_fcpl(track_order\u001b[39m=\u001b[39mtrack_order, fs_strategy\u001b[39m=\u001b[39mfs_strategy,\n\u001b[1;32m    565\u001b[0m                      fs_persist\u001b[39m=\u001b[39mfs_persist, fs_threshold\u001b[39m=\u001b[39mfs_threshold,\n\u001b[1;32m    566\u001b[0m                      fs_page_size\u001b[39m=\u001b[39mfs_page_size)\n\u001b[0;32m--> 567\u001b[0m     fid \u001b[39m=\u001b[39m make_fid(name, mode, userblock_size, fapl, fcpl, swmr\u001b[39m=\u001b[39;49mswmr)\n\u001b[1;32m    569\u001b[0m \u001b[39mif\u001b[39;00m \u001b[39misinstance\u001b[39m(libver, \u001b[39mtuple\u001b[39m):\n\u001b[1;32m    570\u001b[0m     \u001b[39mself\u001b[39m\u001b[39m.\u001b[39m_libver \u001b[39m=\u001b[39m libver\n",
      "File \u001b[0;32m~/cfuselli/software/OptoSim/venv_optosim/lib/python3.9/site-packages/h5py/_hl/files.py:231\u001b[0m, in \u001b[0;36mmake_fid\u001b[0;34m(name, mode, userblock_size, fapl, fcpl, swmr)\u001b[0m\n\u001b[1;32m    229\u001b[0m     \u001b[39mif\u001b[39;00m swmr \u001b[39mand\u001b[39;00m swmr_support:\n\u001b[1;32m    230\u001b[0m         flags \u001b[39m|\u001b[39m\u001b[39m=\u001b[39m h5f\u001b[39m.\u001b[39mACC_SWMR_READ\n\u001b[0;32m--> 231\u001b[0m     fid \u001b[39m=\u001b[39m h5f\u001b[39m.\u001b[39;49mopen(name, flags, fapl\u001b[39m=\u001b[39;49mfapl)\n\u001b[1;32m    232\u001b[0m \u001b[39melif\u001b[39;00m mode \u001b[39m==\u001b[39m \u001b[39m'\u001b[39m\u001b[39mr+\u001b[39m\u001b[39m'\u001b[39m:\n\u001b[1;32m    233\u001b[0m     fid \u001b[39m=\u001b[39m h5f\u001b[39m.\u001b[39mopen(name, h5f\u001b[39m.\u001b[39mACC_RDWR, fapl\u001b[39m=\u001b[39mfapl)\n",
      "File \u001b[0;32mh5py/_objects.pyx:54\u001b[0m, in \u001b[0;36mh5py._objects.with_phil.wrapper\u001b[0;34m()\u001b[0m\n",
      "File \u001b[0;32mh5py/_objects.pyx:55\u001b[0m, in \u001b[0;36mh5py._objects.with_phil.wrapper\u001b[0;34m()\u001b[0m\n",
      "File \u001b[0;32mh5py/h5f.pyx:106\u001b[0m, in \u001b[0;36mh5py.h5f.open\u001b[0;34m()\u001b[0m\n",
      "\u001b[0;31mFileNotFoundError\u001b[0m: [Errno 2] Unable to open file (unable to open file: name = '/data/xenon/acolijn/optosim/data/event0.hd5f', errno = 2, error message = 'No such file or directory', flags = 0, o_flags = 0)"
     ]
    }
   ],
   "source": [
    "import h5py\n",
    "import json\n",
    "\n",
    "# Open the HDF5 file in read mode\n",
    "with h5py.File('/data/xenon/acolijn/optosim/data/event0.hd5f', 'r') as hf:\n",
    "    \n",
    "    # Access the 'config' group\n",
    "    config = json.loads(hf.attrs['config'])\n",
    "    print(config)\n",
    "    print(config['geometry']['radius'])\n",
    "    r = config['geometry']['radius']\n",
    "\n",
    "    # Print the structure of the 'events' dataset\n",
    "    events = hf['events']\n",
    "    print(events)\n",
    "\n",
    "    # Iterate over the elements in the dataset\n",
    "    for event in events:\n",
    "        event = events[event]\n",
    "        # Print the structure of each element\n",
    "        print(event['number'][()])\n",
    "        #print(np.array(event['true_position']))\n",
    "        #print(np.array(event['pmt']))\n",
    "        #print(np.array(event['fine']))\n",
    "        truth = np.array(event['true_position'])\n",
    "        \n",
    "        fig, axs = plt.subplots(1, 2, figsize=(10, 4))\n",
    "\n",
    "        fine = np.array(event['fine'])\n",
    "        axs[0].imshow(fine.T, cmap='viridis', interpolation='nearest', origin='lower', extent=[-r,r,-r,r])\n",
    "        axs[0].plot(truth[0], truth[1], marker='o', markersize=10, color='red', label='Marker')\n",
    "\n",
    "        pmt = np.array(event['pmt'])\n",
    "        axs[1].imshow(pmt.T, cmap='viridis', interpolation='nearest', origin='lower', extent=[-r,r,-r,r])\n",
    "        axs[1].plot(truth[0], truth[1], marker='o', markersize=10, color='red', label='Marker')\n",
    "\n",
    "        plt.show()\n",
    "        input(\"Press Enter to continue to the next iteration...\")\n",
    "\n",
    "\n",
    "        \n",
    "        # Access the data within each element\n",
    "        #data = str(event[()]\n",
    "        #print(data)\n",
    "\n"
   ]
  },
  {
   "cell_type": "code",
   "execution_count": null,
   "id": "bb305283",
   "metadata": {},
   "outputs": [
    {
     "data": {
      "text/plain": [
       "'xams_dummy.hd5f'"
      ]
     },
     "execution_count": 5,
     "metadata": {},
     "output_type": "execute_result"
    }
   ],
   "source": [
    "gen.config['filename']"
   ]
  },
  {
   "cell_type": "code",
   "execution_count": null,
   "id": "ac5cc4e6",
   "metadata": {},
   "outputs": [],
   "source": []
  }
 ],
 "metadata": {
  "kernelspec": {
   "display_name": "Python 3 (ipykernel)",
   "language": "python",
   "name": "python3"
  },
  "language_info": {
   "codemirror_mode": {
    "name": "ipython",
    "version": 3
   },
   "file_extension": ".py",
   "mimetype": "text/x-python",
   "name": "python",
   "nbconvert_exporter": "python",
   "pygments_lexer": "ipython3",
   "version": "3.9.18"
  }
 },
 "nbformat": 4,
 "nbformat_minor": 5
}
