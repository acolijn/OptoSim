{
 "cells": [
  {
   "cell_type": "markdown",
   "id": "03af23d3",
   "metadata": {},
   "source": [
    "### Tools for reading the data"
   ]
  },
  {
   "cell_type": "code",
   "execution_count": 2,
   "id": "8f449326",
   "metadata": {},
   "outputs": [],
   "source": [
    "import h5py\n",
    "import json\n",
    "import numpy as np\n",
    "import matplotlib.pyplot as plt\n",
    "import glob\n",
    "\n",
    "from IPython.display import display, JSON, clear_output"
   ]
  },
  {
   "cell_type": "code",
   "execution_count": 3,
   "id": "c4fa6b99",
   "metadata": {},
   "outputs": [],
   "source": [
    "from optosim.simulation.event_reader import EventReader, show_data\n",
    "\n",
    "import pandas as pd"
   ]
  },
  {
   "cell_type": "markdown",
   "id": "981d05dd",
   "metadata": {},
   "source": [
    "#### Check all available data"
   ]
  },
  {
   "cell_type": "code",
   "execution_count": 4,
   "id": "c49e6eef",
   "metadata": {},
   "outputs": [
    {
     "name": "stdout",
     "output_type": "stream",
     "text": [
      "Found 12 subdirectories\n",
      "Subdirectories:\n",
      "['9994', '9997', '9998', '9999', 'mc0000', 'mc0001', 'mc0002', 'mc0003', 'mc0004', 'mc0005', 'mc0006', 'mc9999']\n",
      "File /data/xenon/acolijn/optosim/data/9994/9994.0000.hd5f is currently open by another process. Skipping...\n"
     ]
    },
    {
     "data": {
      "text/html": [
       "<div>\n",
       "<style scoped>\n",
       "    .dataframe tbody tr th:only-of-type {\n",
       "        vertical-align: middle;\n",
       "    }\n",
       "\n",
       "    .dataframe tbody tr th {\n",
       "        vertical-align: top;\n",
       "    }\n",
       "\n",
       "    .dataframe thead th {\n",
       "        text-align: right;\n",
       "    }\n",
       "</style>\n",
       "<table border=\"1\" class=\"dataframe\">\n",
       "  <thead>\n",
       "    <tr style=\"text-align: right;\">\n",
       "      <th></th>\n",
       "      <th>subdir</th>\n",
       "      <th>detector</th>\n",
       "      <th>nevents</th>\n",
       "      <th>nphoton_per_event</th>\n",
       "      <th>set_no_scatter</th>\n",
       "      <th>set_experimental_scatter_model</th>\n",
       "      <th>radius</th>\n",
       "    </tr>\n",
       "  </thead>\n",
       "  <tbody>\n",
       "    <tr>\n",
       "      <th>0</th>\n",
       "      <td>9997</td>\n",
       "      <td>XENONnT</td>\n",
       "      <td>10</td>\n",
       "      <td>[1000, 25000]</td>\n",
       "      <td>False</td>\n",
       "      <td>True</td>\n",
       "      <td>65.0</td>\n",
       "    </tr>\n",
       "    <tr>\n",
       "      <th>1</th>\n",
       "      <td>9998</td>\n",
       "      <td>XAMS</td>\n",
       "      <td>100</td>\n",
       "      <td>[1000, 25000]</td>\n",
       "      <td>False</td>\n",
       "      <td>True</td>\n",
       "      <td>3.2</td>\n",
       "    </tr>\n",
       "    <tr>\n",
       "      <th>2</th>\n",
       "      <td>9999</td>\n",
       "      <td>XAMS</td>\n",
       "      <td>100</td>\n",
       "      <td>[1000, 25000]</td>\n",
       "      <td>NaN</td>\n",
       "      <td>NaN</td>\n",
       "      <td>3.2</td>\n",
       "    </tr>\n",
       "    <tr>\n",
       "      <th>3</th>\n",
       "      <td>mc0000</td>\n",
       "      <td>XAMS</td>\n",
       "      <td>1000</td>\n",
       "      <td>100000</td>\n",
       "      <td>False</td>\n",
       "      <td>True</td>\n",
       "      <td>3.2</td>\n",
       "    </tr>\n",
       "    <tr>\n",
       "      <th>4</th>\n",
       "      <td>mc0001</td>\n",
       "      <td>XAMS</td>\n",
       "      <td>10000</td>\n",
       "      <td>10000</td>\n",
       "      <td>False</td>\n",
       "      <td>True</td>\n",
       "      <td>3.2</td>\n",
       "    </tr>\n",
       "    <tr>\n",
       "      <th>5</th>\n",
       "      <td>mc0002</td>\n",
       "      <td>XAMS</td>\n",
       "      <td>10000</td>\n",
       "      <td>10000</td>\n",
       "      <td>True</td>\n",
       "      <td>True</td>\n",
       "      <td>3.2</td>\n",
       "    </tr>\n",
       "    <tr>\n",
       "      <th>6</th>\n",
       "      <td>mc0003</td>\n",
       "      <td>XAMS</td>\n",
       "      <td>10000</td>\n",
       "      <td>10000</td>\n",
       "      <td>False</td>\n",
       "      <td>False</td>\n",
       "      <td>3.2</td>\n",
       "    </tr>\n",
       "    <tr>\n",
       "      <th>7</th>\n",
       "      <td>mc0004</td>\n",
       "      <td>XAMS</td>\n",
       "      <td>10000</td>\n",
       "      <td>10000</td>\n",
       "      <td>False</td>\n",
       "      <td>True</td>\n",
       "      <td>3.2</td>\n",
       "    </tr>\n",
       "    <tr>\n",
       "      <th>8</th>\n",
       "      <td>mc0005</td>\n",
       "      <td>XAMS</td>\n",
       "      <td>10000</td>\n",
       "      <td>10000</td>\n",
       "      <td>True</td>\n",
       "      <td>True</td>\n",
       "      <td>3.2</td>\n",
       "    </tr>\n",
       "    <tr>\n",
       "      <th>9</th>\n",
       "      <td>mc0006</td>\n",
       "      <td>XAMS</td>\n",
       "      <td>10000</td>\n",
       "      <td>[1000, 25000]</td>\n",
       "      <td>False</td>\n",
       "      <td>True</td>\n",
       "      <td>3.2</td>\n",
       "    </tr>\n",
       "    <tr>\n",
       "      <th>10</th>\n",
       "      <td>mc9999</td>\n",
       "      <td>XAMS</td>\n",
       "      <td>100</td>\n",
       "      <td>10000</td>\n",
       "      <td>False</td>\n",
       "      <td>True</td>\n",
       "      <td>8.0</td>\n",
       "    </tr>\n",
       "  </tbody>\n",
       "</table>\n",
       "</div>"
      ],
      "text/plain": [
       "    subdir detector  nevents nphoton_per_event set_no_scatter  \\\n",
       "0     9997  XENONnT       10     [1000, 25000]          False   \n",
       "1     9998     XAMS      100     [1000, 25000]          False   \n",
       "2     9999     XAMS      100     [1000, 25000]            NaN   \n",
       "3   mc0000     XAMS     1000            100000          False   \n",
       "4   mc0001     XAMS    10000             10000          False   \n",
       "5   mc0002     XAMS    10000             10000           True   \n",
       "6   mc0003     XAMS    10000             10000          False   \n",
       "7   mc0004     XAMS    10000             10000          False   \n",
       "8   mc0005     XAMS    10000             10000           True   \n",
       "9   mc0006     XAMS    10000     [1000, 25000]          False   \n",
       "10  mc9999     XAMS      100             10000          False   \n",
       "\n",
       "   set_experimental_scatter_model  radius  \n",
       "0                            True    65.0  \n",
       "1                            True     3.2  \n",
       "2                             NaN     3.2  \n",
       "3                            True     3.2  \n",
       "4                            True     3.2  \n",
       "5                            True     3.2  \n",
       "6                           False     3.2  \n",
       "7                            True     3.2  \n",
       "8                            True     3.2  \n",
       "9                            True     3.2  \n",
       "10                           True     8.0  "
      ]
     },
     "execution_count": 4,
     "metadata": {},
     "output_type": "execute_result"
    }
   ],
   "source": [
    "data_dir = '/data/xenon/acolijn/optosim/data'\n",
    "show_data(data_dir)"
   ]
  },
  {
   "cell_type": "markdown",
   "id": "cafd3df0",
   "metadata": {},
   "source": [
    "#### Get all the file names and initialize the data reader class"
   ]
  },
  {
   "cell_type": "code",
   "execution_count": 5,
   "id": "5c81c10b",
   "metadata": {},
   "outputs": [
    {
     "name": "stdout",
     "output_type": "stream",
     "text": [
      "['/data/xenon/acolijn/optosim/data/9997/9997.0000.hd5']\n"
     ]
    }
   ],
   "source": [
    "files = glob.glob('/data/xenon/acolijn/optosim/data/9997/*.hd5')\n",
    "print(files)"
   ]
  },
  {
   "cell_type": "markdown",
   "id": "a0c778a9",
   "metadata": {},
   "source": [
    "#### Loop over the events\n",
    "\n",
    "1. maximum number of events can be set with nmax\n",
    "2. use plot=True to show the events \n",
    "\n",
    "Note: the event loop below assumes a 2x2 detector. For other dimensions the code needs to be adapted"
   ]
  },
  {
   "cell_type": "code",
   "execution_count": 6,
   "id": "e906ca8b",
   "metadata": {},
   "outputs": [],
   "source": [
    "plot=True\n",
    "nmax=1000000"
   ]
  },
  {
   "cell_type": "code",
   "execution_count": 7,
   "id": "f805b3ab",
   "metadata": {},
   "outputs": [
    {
     "name": "stdout",
     "output_type": "stream",
     "text": [
      "CPU times: user 13.5 s, sys: 2.84 s, total: 16.4 s\n",
      "Wall time: 1min 12s\n"
     ]
    }
   ],
   "source": [
    "%%time\n",
    "events = EventReader(files)\n",
    "\n",
    "n = 0\n",
    "\n",
    "\n",
    "# this if where the data goes....\n",
    "data_dict = { \n",
    "    'x': [],\n",
    "    'y': [],\n",
    "    'q_b': [],\n",
    "    'q_l': [],\n",
    "    'q_tot': []\n",
    "}\n",
    "\n",
    "#\n",
    "# loop over evnts...\n",
    "#\n",
    "for ev in events:\n",
    "    if n%1000 == 0:\n",
    "        print('processed ',n,'events')#, events.print_event(ev))\n",
    "    n+=1\n",
    "    \n",
    "    # if you want to show the events\n",
    "    if plot:\n",
    "        nph = ev['nphoton'][()]\n",
    "        \n",
    "        if nph < 2000000:\n",
    "            print('nphoton = ',nph)\n",
    "\n",
    "            events.show_event(ev)\n",
    "            response = input(\"Press Enter to continue to the next event or 'q' to quit...\")\n",
    "\n",
    "            if response.lower() == 'q':\n",
    "                print(\"Quit the event display......\")\n",
    "                break\n",
    "        \n",
    "            clear_output(wait=True)\n",
    "    \n",
    "    \n",
    "    # retrieve the true hit position\n",
    "    x_true = ev['true_position'][()]\n",
    "    data_dict['x'].append(x_true[0])\n",
    "    data_dict['y'].append(x_true[1])\n",
    "    \n",
    "    # get the data from the top PMT    \n",
    "    pmt = ev['pmt_top'][()]\n",
    "    qtot = float(np.sum(pmt))\n",
    "    data_dict['q_b'].append((pmt[0][0] + pmt[1][0]))\n",
    "    data_dict['q_l'].append((pmt[0][0] + pmt[0][1]))\n",
    "    data_dict['q_tot'].append(qtot)\n",
    "    \n",
    "    if n>nmax:\n",
    "        break\n",
    "            \n",
    "# write the data to a dataFrame\n",
    "df = pd.DataFrame(data_dict)\n",
    "df['r'] = np.sqrt(df['x']**2+df['y']**2)\n",
    "df['q_tb'] = df['q_b']/df['q_tot']\n",
    "df['q_lr'] = df['q_l']/df['q_tot']\n",
    "\n",
    "\n",
    "events.reset()"
   ]
  },
  {
   "cell_type": "markdown",
   "id": "943efb6e",
   "metadata": {},
   "source": [
    "#### Plot the charge ratio\n",
    "\n",
    "Two plots: (i) $Q_L / Q_{tot}$ as a function of $x$ (ii) $Q_B / Q_{tot}$ as a function of $y$."
   ]
  },
  {
   "cell_type": "code",
   "execution_count": 73,
   "id": "952cfbd6",
   "metadata": {},
   "outputs": [
    {
     "data": {
      "text/plain": [
       "Text(0, 0.5, '$Q_B / Q_{tot}$')"
      ]
     },
     "execution_count": 73,
     "metadata": {},
     "output_type": "execute_result"
    },
    {
     "data": {
      "image/png": "[encoded data removed]",
      "text/plain": [
       "<Figure size 1000x400 with 2 Axes>"
      ]
     },
     "metadata": {},
     "output_type": "display_data"
    }
   ],
   "source": [
    "fig, axs = plt.subplots(1, 2, figsize=(10, 4))\n",
    "\n",
    "R = events.config['geometry']['radius']\n",
    "\n",
    "h1 = axs[0].hist2d(df['x'],df['q_lr'],bins=(100,100), range=((-R,R),(0,1)))\n",
    "axs[0].set_xlabel('$x_{true} (cm)$')\n",
    "axs[0].set_ylabel('$Q_L / Q_{tot}$')\n",
    "\n",
    "h2 = axs[1].hist2d(df['y'],df['q_tb'],bins=(100,100), range=((-R,R),(0,1)))\n",
    "axs[1].set_xlabel('$y_{true} (cm)$')\n",
    "axs[1].set_ylabel('$Q_B / Q_{tot}$')"
   ]
  },
  {
   "cell_type": "code",
   "execution_count": 75,
   "id": "d8a2a15a",
   "metadata": {},
   "outputs": [
    {
     "data": {
      "text/plain": [
       "Text(0, 0.5, '$Q_B$')"
      ]
     },
     "execution_count": 75,
     "metadata": {},
     "output_type": "execute_result"
    },
    {
     "data": {
      "image/png": "[encoded data removed]",
      "text/plain": [
       "<Figure size 1000x400 with 2 Axes>"
      ]
     },
     "metadata": {},
     "output_type": "display_data"
    }
   ],
   "source": [
    "fig, axs = plt.subplots(1, 2, figsize=(10, 4))\n",
    "\n",
    "R = events.config['geometry']['radius']\n",
    "\n",
    "h1 = axs[0].hist2d(df['x'],df['q_l'],bins=(100,100), range=((-R,R),(0,5000)))\n",
    "axs[0].set_xlabel('$x_{true} (cm)$')\n",
    "axs[0].set_ylabel('$Q_L$')\n",
    "\n",
    "h2 = axs[1].hist2d(df['y'],df['q_b'],bins=(100,100), range=((-R,R),(0,5000)))\n",
    "axs[1].set_xlabel('$y_{true} (cm)$')\n",
    "axs[1].set_ylabel('$Q_B$')"
   ]
  },
  {
   "cell_type": "markdown",
   "id": "bc650c7b",
   "metadata": {},
   "source": [
    ".... and also $Q_{tot}$ as a function of radius."
   ]
  },
  {
   "cell_type": "code",
   "execution_count": 77,
   "id": "cc671a30",
   "metadata": {},
   "outputs": [
    {
     "data": {
      "image/png": "[encoded data removed]",
      "text/plain": [
       "<Figure size 640x480 with 1 Axes>"
      ]
     },
     "metadata": {},
     "output_type": "display_data"
    }
   ],
   "source": [
    "xp = np.array(xp)\n",
    "yp = np.array(yp)\n",
    "R = events.config['geometry']['radius']\n",
    "\n",
    "r2 = np.sqrt(df['x']**2+df['y']**2)\n",
    "h=plt.hist2d(r2,df['q_tot'],bins=100, range=((0,R),(0,5000)))\n",
    "plt.xlabel('R (cm)')\n",
    "plt.ylabel('$Q_{tot}$')\n",
    "plt.show()"
   ]
  },
  {
   "cell_type": "code",
   "execution_count": 10,
   "id": "dafd2937",
   "metadata": {},
   "outputs": [
    {
     "name": "stdout",
     "output_type": "stream",
     "text": [
      "['/data/xenon/acolijn/optosim/data/9999/9999.0000.hd5f']\n",
      "(100, 20, 20)\n",
      "[[ 0  4 13 22 24 46 58 40 39 34 10 28 16 15 13 14 10  5  1  0]\n",
      " [ 3 13 28 34 52 76 17  9 22 12  6 15 22 21 17 10 13 14  6  3]\n",
      " [ 9 17 18 29 51  6 17 14 19 10  7 17  9 14 16 11 11  8 14  7]\n",
      " [ 8  9 12 34 13  9 12 12 13 13 10  9 11 10 15 15  6 12 12 10]\n",
      " [ 4  8 25 22  6  8 14 15 12  9 15 12  8 11  8  4 15 10  8 11]\n",
      " [ 5 13 19  6 10  8 10 14 12 11 15  9 13 20 25  7 13 13 13 10]\n",
      " [ 2 11 14 11  9  6  7 12  6  9  7 12 14 14 10 20 17  9 10 18]\n",
      " [ 5  9 15  3  8  6  4  4 10 14  9 11  5 15 13 10 13 14 15 12]\n",
      " [ 7  6 10  7  5  7  8 10  8 11  6  7 11  7 19 11  9  6 14 15]\n",
      " [ 5  1  5  9  8 13 11  6  7  7 10 11  7  8 16 11 11 15 15 20]\n",
      " [ 5  7 13  8  6  5  6  5  9 11 13 12  8  8 12 11 10  9 12 12]\n",
      " [ 8  6  8  6 14 14  7 12 10  7 13  7  4 13 11 11  7 14  4 12]\n",
      " [ 7  9  6  8 12  4  8  5  7 12  9 12 10 13 15 13 11 16 14 13]\n",
      " [ 2  3 10  6  7 15  6  7 11 11  9 10  9 11 13 12 12 12 15 15]\n",
      " [ 2 11  7  9  9 10  6  8  7  8  8 10  5 21 15 18 19 15 19 26]\n",
      " [ 7  5  7  4  8  6  9  6  9  9  7 11  8 15 11 10 13 24 25 20]\n",
      " [ 7  7  5  4  6  7  8  8 11  8  6  5 10 17 18 14 26 36 29  6]\n",
      " [ 4  3  4  8  2 13  8  8  7 11  6  7  5 11 16 20 57 20  7  4]\n",
      " [ 2  2  5  7  6  9  9  8 11 20 31 24 23 40 47 66 10  1  2  2]\n",
      " [ 0  0  5  6  5  8  8  6  8 14 19 33 30 44 50  4  5  4  2  0]]\n"
     ]
    }
   ],
   "source": [
    "import numpy as np\n",
    "# I want to open the hdf5 files and read the data\n",
    "import h5py\n",
    "import matplotlib.pyplot as plt\n",
    "import glob\n",
    "from IPython.display import display, JSON, clear_output\n",
    "\n",
    "# this is the directory where the data is stored\n",
    "files = glob.glob('/data/xenon/acolijn/optosim/data/9999/*.hdf5')\n",
    "print(files)\n",
    "\n",
    "with h5py.File(files[0], 'r') as f:\n",
    "    config = f.attrs['config']\n",
    "\n",
    "    all_fine_bot = f['events/fine_bot'][:]\n",
    "\n",
    "print(all_fine_bot.shape)\n",
    "\n",
    "print(all_fine_bot[0])\n",
    "\n",
    "\n",
    "file = files[0]"
   ]
  },
  {
   "cell_type": "code",
   "execution_count": 15,
   "id": "4b783d13",
   "metadata": {},
   "outputs": [
    {
     "name": "stdout",
     "output_type": "stream",
     "text": [
      "events: Group\n",
      "  fine_bot: Dataset\n",
      "  fine_top: Dataset\n",
      "  nphoton: Dataset\n",
      "  number: Dataset\n",
      "  pmt_bot: Dataset\n",
      "  pmt_top: Dataset\n",
      "  true_position: Dataset\n",
      "{\"detector\": \"XAMS\", \"nevents\": 100, \"nphoton_per_event\": [1000, 25000], \"photon_zgen\": 0.1, \"geometry\": {\"type\": \"cylinder\", \"radius\": 3.2, \"ztop\": 1.2, \"zliq\": 0.0, \"zbot\": -6.7, \"ptfe_zmin\": -5.32, \"ptfe_zmax\": -0.25}, \"npmt_xy\": 2, \"pmt\": {\"type\": \"square\", \"size\": 2.54, \"ndivs\": 10}}\n"
     ]
    }
   ],
   "source": [
    "import h5py\n",
    "\n",
    "def print_structure(file, indent=''):\n",
    "    for key, item in file.items():\n",
    "        if isinstance(item, h5py.Dataset):\n",
    "            print(indent + key + \": Dataset\")\n",
    "        elif isinstance(item, h5py.Group):\n",
    "            print(indent + key + \": Group\")\n",
    "            print_structure(item, indent + '  ')\n",
    "        print_attributes(item, indent + '  ')\n",
    "\n",
    "def print_attributes(item, indent):\n",
    "    attrs = item.attrs\n",
    "    for attr_name, attr_value in attrs.items():\n",
    "        print(indent + \"[Attribute] \" + attr_name + \":\", attr_value)\n",
    "\n",
    "filename = file\n",
    "with h5py.File(filename, 'r') as f:\n",
    "    print_structure(f)\n",
    "    print(f.attrs['config'])\n",
    "\n",
    "\n"
   ]
  },
  {
   "cell_type": "code",
   "execution_count": null,
   "id": "f65bc3ef",
   "metadata": {},
   "outputs": [],
   "source": []
  }
 ],
 "metadata": {
  "kernelspec": {
   "display_name": "Python 3 (ipykernel)",
   "language": "python",
   "name": "python3"
  },
  "language_info": {
   "codemirror_mode": {
    "name": "ipython",
    "version": 3
   },
   "file_extension": ".py",
   "mimetype": "text/x-python",
   "name": "python",
   "nbconvert_exporter": "python",
   "pygments_lexer": "ipython3",
   "version": "3.11.5"
  }
 },
 "nbformat": 4,
 "nbformat_minor": 5
}
