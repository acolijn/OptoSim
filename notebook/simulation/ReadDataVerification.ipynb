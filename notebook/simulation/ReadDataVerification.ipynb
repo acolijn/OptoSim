{
 "cells": [
  {
   "cell_type": "markdown",
   "id": "03af23d3",
   "metadata": {},
   "source": [
    "### Tools for reading the data"
   ]
  },
  {
   "cell_type": "code",
   "execution_count": 1,
   "id": "8f449326",
   "metadata": {},
   "outputs": [],
   "source": [
    "import numpy as np\n",
    "import matplotlib.pyplot as plt\n",
    "import glob\n",
    "\n",
    "from IPython.display import display, JSON, clear_output"
   ]
  },
  {
   "cell_type": "code",
   "execution_count": 9,
   "id": "c4fa6b99",
   "metadata": {},
   "outputs": [],
   "source": [
    "from optosim.simulation.event_reader import EventReader, show_data\n",
    "import pandas as pd\n"
   ]
  },
  {
   "cell_type": "markdown",
   "id": "981d05dd",
   "metadata": {},
   "source": [
    "#### Check all available data"
   ]
  },
  {
   "cell_type": "code",
   "execution_count": 3,
   "id": "c49e6eef",
   "metadata": {},
   "outputs": [
    {
     "name": "stdout",
     "output_type": "stream",
     "text": [
      "Found 9 subdirectories\n",
      "Subdirectories:\n",
      "['mc0006', 'mc0007', 'mc0010', 'mc0011', 'mc0012', 'test_mc0000', 'test_mc0001', 'test_mc0002', 'test_mc0003']\n",
      "File /data/xenon/optosim/data/test_mc0003/test_mc0003.0000.hdf5 is currently open by another process. Skipping...\n"
     ]
    },
    {
     "data": {
      "text/html": [
       "<div>\n",
       "<style scoped>\n",
       "    .dataframe tbody tr th:only-of-type {\n",
       "        vertical-align: middle;\n",
       "    }\n",
       "\n",
       "    .dataframe tbody tr th {\n",
       "        vertical-align: top;\n",
       "    }\n",
       "\n",
       "    .dataframe thead th {\n",
       "        text-align: right;\n",
       "    }\n",
       "</style>\n",
       "<table border=\"1\" class=\"dataframe\">\n",
       "  <thead>\n",
       "    <tr style=\"text-align: right;\">\n",
       "      <th></th>\n",
       "      <th>subdir</th>\n",
       "      <th>detector</th>\n",
       "      <th>nevents</th>\n",
       "      <th>nphoton_per_event</th>\n",
       "      <th>scatter</th>\n",
       "      <th>experimental_scatter_model</th>\n",
       "      <th>radius</th>\n",
       "    </tr>\n",
       "  </thead>\n",
       "  <tbody>\n",
       "    <tr>\n",
       "      <th>0</th>\n",
       "      <td>mc0006</td>\n",
       "      <td>XAMS</td>\n",
       "      <td>10000</td>\n",
       "      <td>[1000, 25000]</td>\n",
       "      <td>NaN</td>\n",
       "      <td>NaN</td>\n",
       "      <td>3.2</td>\n",
       "    </tr>\n",
       "    <tr>\n",
       "      <th>1</th>\n",
       "      <td>mc0007</td>\n",
       "      <td>XENONnT</td>\n",
       "      <td>10000</td>\n",
       "      <td>[1000, 25000]</td>\n",
       "      <td>NaN</td>\n",
       "      <td>NaN</td>\n",
       "      <td>65.0</td>\n",
       "    </tr>\n",
       "    <tr>\n",
       "      <th>2</th>\n",
       "      <td>mc0010</td>\n",
       "      <td>XAMS</td>\n",
       "      <td>10000</td>\n",
       "      <td>[100, 100000]</td>\n",
       "      <td>True</td>\n",
       "      <td>True</td>\n",
       "      <td>3.2</td>\n",
       "    </tr>\n",
       "    <tr>\n",
       "      <th>3</th>\n",
       "      <td>mc0011</td>\n",
       "      <td>XAMS</td>\n",
       "      <td>10000</td>\n",
       "      <td>[100, 100000]</td>\n",
       "      <td>True</td>\n",
       "      <td>False</td>\n",
       "      <td>3.2</td>\n",
       "    </tr>\n",
       "    <tr>\n",
       "      <th>4</th>\n",
       "      <td>mc0012</td>\n",
       "      <td>XAMS</td>\n",
       "      <td>10000</td>\n",
       "      <td>[100, 100000]</td>\n",
       "      <td>False</td>\n",
       "      <td>NaN</td>\n",
       "      <td>3.2</td>\n",
       "    </tr>\n",
       "  </tbody>\n",
       "</table>\n",
       "</div>"
      ],
      "text/plain": [
       "   subdir detector  nevents nphoton_per_event scatter  \\\n",
       "0  mc0006     XAMS    10000     [1000, 25000]     NaN   \n",
       "1  mc0007  XENONnT    10000     [1000, 25000]     NaN   \n",
       "2  mc0010     XAMS    10000     [100, 100000]    True   \n",
       "3  mc0011     XAMS    10000     [100, 100000]    True   \n",
       "4  mc0012     XAMS    10000     [100, 100000]   False   \n",
       "\n",
       "  experimental_scatter_model  radius  \n",
       "0                        NaN     3.2  \n",
       "1                        NaN    65.0  \n",
       "2                       True     3.2  \n",
       "3                      False     3.2  \n",
       "4                        NaN     3.2  "
      ]
     },
     "execution_count": 3,
     "metadata": {},
     "output_type": "execute_result"
    }
   ],
   "source": [
    "data_dir = '/data/xenon/optosim/data'\n",
    "show_data(data_dir)"
   ]
  },
  {
   "cell_type": "markdown",
   "id": "cafd3df0",
   "metadata": {},
   "source": [
    "#### Get all the file names and initialize the data reader class"
   ]
  },
  {
   "cell_type": "code",
   "execution_count": 4,
   "id": "5c81c10b",
   "metadata": {},
   "outputs": [
    {
     "name": "stdout",
     "output_type": "stream",
     "text": [
      "['/data/xenon/optosim/data/mc0010/mc0010.0001.hdf5', '/data/xenon/optosim/data/mc0010/mc0010.0008.hdf5', '/data/xenon/optosim/data/mc0010/mc0010.0007.hdf5', '/data/xenon/optosim/data/mc0010/mc0010.0000.hdf5', '/data/xenon/optosim/data/mc0010/mc0010.0006.hdf5', '/data/xenon/optosim/data/mc0010/mc0010.0003.hdf5', '/data/xenon/optosim/data/mc0010/mc0010.0004.hdf5', '/data/xenon/optosim/data/mc0010/mc0010.0005.hdf5', '/data/xenon/optosim/data/mc0010/mc0010.0009.hdf5', '/data/xenon/optosim/data/mc0010/mc0010.0002.hdf5']\n"
     ]
    }
   ],
   "source": [
    "files = glob.glob('/data/xenon/optosim/data/mc0010/mc0010.000*.hdf5')\n",
    "print(files)"
   ]
  },
  {
   "cell_type": "markdown",
   "id": "a0c778a9",
   "metadata": {},
   "source": [
    "#### Loop over the events\n",
    "\n",
    "1. maximum number of events can be set with nmax\n",
    "2. use plot=True to show the events \n",
    "\n",
    "Note: the event loop below assumes a 2x2 detector. For other dimensions the code needs to be adapted"
   ]
  },
  {
   "cell_type": "code",
   "execution_count": 7,
   "id": "e906ca8b",
   "metadata": {},
   "outputs": [],
   "source": [
    "plot=False\n",
    "nmax=1000000"
   ]
  },
  {
   "cell_type": "code",
   "execution_count": 11,
   "id": "f805b3ab",
   "metadata": {},
   "outputs": [
    {
     "name": "stdout",
     "output_type": "stream",
     "text": [
      "huh config =  {'detector': 'XAMS', 'nevents': 10000, 'nphoton_per_event': [100, 100000], 'photon_zgen': 0.5, 'geometry': {'type': 'cylinder', 'radius': 3.2, 'ztop': 1.2, 'zliq': 0.0, 'zbot': -6.7, 'ptfe_zmin': -5.32, 'ptfe_zmax': -0.25}, 'npmt_xy': 2, 'pmt': {'type': 'square', 'size': 2.54, 'ndivs': 10}, 'scatter': True, 'experimental_scatter_model': True, 'data_type_version': 2.0}\n",
      "EventReader initialized with:\n",
      "  number of files:  10\n",
      "  number of events:  100000\n",
      "  configuration:  {'detector': 'XAMS', 'nevents': 10000, 'nphoton_per_event': [100, 100000], 'photon_zgen': 0.5, 'geometry': {'type': 'cylinder', 'radius': 3.2, 'ztop': 1.2, 'zliq': 0.0, 'zbot': -6.7, 'ptfe_zmin': -5.32, 'ptfe_zmax': -0.25}, 'npmt_xy': 2, 'pmt': {'type': 'square', 'size': 2.54, 'ndivs': 10}, 'scatter': True, 'experimental_scatter_model': True, 'data_type_version': 2.0}\n",
      "processed  0 events\n",
      "processed  1000 events\n",
      "processed  2000 events\n",
      "processed  3000 events\n",
      "processed  4000 events\n",
      "processed  5000 events\n",
      "processed  6000 events\n",
      "processed  7000 events\n",
      "processed  8000 events\n",
      "processed  9000 events\n",
      "processed  10000 events\n",
      "processed  11000 events\n",
      "processed  12000 events\n",
      "processed  13000 events\n",
      "processed  14000 events\n",
      "processed  15000 events\n",
      "processed  16000 events\n",
      "processed  17000 events\n",
      "processed  18000 events\n",
      "processed  19000 events\n",
      "processed  20000 events\n",
      "processed  21000 events\n",
      "processed  22000 events\n",
      "processed  23000 events\n",
      "processed  24000 events\n",
      "processed  25000 events\n",
      "processed  26000 events\n",
      "processed  27000 events\n",
      "processed  28000 events\n",
      "processed  29000 events\n",
      "processed  30000 events\n",
      "processed  31000 events\n",
      "processed  32000 events\n",
      "processed  33000 events\n",
      "processed  34000 events\n",
      "processed  35000 events\n",
      "processed  36000 events\n",
      "processed  37000 events\n",
      "processed  38000 events\n",
      "processed  39000 events\n",
      "processed  40000 events\n",
      "processed  41000 events\n",
      "processed  42000 events\n",
      "processed  43000 events\n",
      "processed  44000 events\n",
      "processed  45000 events\n",
      "processed  46000 events\n",
      "processed  47000 events\n",
      "processed  48000 events\n",
      "processed  49000 events\n",
      "processed  50000 events\n",
      "processed  51000 events\n",
      "processed  52000 events\n",
      "processed  53000 events\n",
      "processed  54000 events\n",
      "processed  55000 events\n",
      "processed  56000 events\n",
      "processed  57000 events\n",
      "processed  58000 events\n",
      "processed  59000 events\n",
      "processed  60000 events\n",
      "processed  61000 events\n",
      "processed  62000 events\n",
      "processed  63000 events\n",
      "processed  64000 events\n",
      "processed  65000 events\n",
      "processed  66000 events\n",
      "processed  67000 events\n",
      "processed  68000 events\n",
      "processed  69000 events\n",
      "processed  70000 events\n",
      "processed  71000 events\n",
      "processed  72000 events\n",
      "processed  73000 events\n",
      "processed  74000 events\n",
      "processed  75000 events\n",
      "processed  76000 events\n",
      "processed  77000 events\n",
      "processed  78000 events\n",
      "processed  79000 events\n",
      "processed  80000 events\n",
      "processed  81000 events\n",
      "processed  82000 events\n",
      "processed  83000 events\n",
      "processed  84000 events\n",
      "processed  85000 events\n",
      "processed  86000 events\n",
      "processed  87000 events\n",
      "processed  88000 events\n",
      "processed  89000 events\n",
      "processed  90000 events\n",
      "processed  91000 events\n",
      "processed  92000 events\n",
      "processed  93000 events\n",
      "processed  94000 events\n",
      "processed  95000 events\n",
      "processed  96000 events\n",
      "processed  97000 events\n",
      "processed  98000 events\n",
      "processed  99000 events\n",
      "CPU times: user 3.18 s, sys: 423 ms, total: 3.6 s\n",
      "Wall time: 10.4 s\n"
     ]
    }
   ],
   "source": [
    "%%time\n",
    "events = EventReader(files)\n",
    "\n",
    "n = 0\n",
    "\n",
    "\n",
    "# this if where the data goes....\n",
    "data_dict = { \n",
    "    'x': [],\n",
    "    'y': [],\n",
    "    'q_b': [],\n",
    "    'q_l': [],\n",
    "    'q_tot': []\n",
    "}\n",
    "\n",
    "#\n",
    "# loop over evnts...\n",
    "#\n",
    "for i in range(events.num_events):\n",
    "\n",
    "    ev = events.get_event(i)\n",
    "\n",
    "    if n%1000 == 0:\n",
    "        print('processed ',n,'events')#, events.print_event(ev))\n",
    "    n+=1\n",
    "    \n",
    "    # if you want to show the events\n",
    "    if plot:\n",
    "        nph = ev['nphoton']\n",
    "        \n",
    "        if nph < 2000000:\n",
    "            print('nphoton = ',nph)\n",
    "\n",
    "            events.show_event(i)\n",
    "            response = input(\"Press Enter to continue to the next event or 'q' to quit...\")\n",
    "\n",
    "            if response.lower() == 'q':\n",
    "                print(\"Quit the event display......\")\n",
    "                break\n",
    "        \n",
    "            clear_output(wait=True)\n",
    "    \n",
    "    \n",
    "    # retrieve the true hit position\n",
    "    x_true = ev['true_position']\n",
    "    data_dict['x'].append(x_true[0])\n",
    "    data_dict['y'].append(x_true[1])\n",
    "    \n",
    "    # get the data from the top PMT    \n",
    "    pmt = ev['pmt_top']\n",
    "    qtot = float(np.sum(pmt))\n",
    "    data_dict['q_b'].append((pmt[0][0] + pmt[1][0]))\n",
    "    data_dict['q_l'].append((pmt[0][0] + pmt[0][1]))\n",
    "    data_dict['q_tot'].append(qtot)\n",
    "    \n",
    "    if n>nmax:\n",
    "        break\n",
    "            \n",
    "# write the data to a dataFrame\n",
    "df = pd.DataFrame(data_dict)\n",
    "df['r'] = np.sqrt(df['x']**2+df['y']**2)\n",
    "df['q_tb'] = df['q_b']/df['q_tot']\n",
    "df['q_lr'] = df['q_l']/df['q_tot']"
   ]
  },
  {
   "cell_type": "markdown",
   "id": "943efb6e",
   "metadata": {},
   "source": [
    "#### Plot the charge ratio\n",
    "\n",
    "Two plots: (i) $Q_L / Q_{tot}$ as a function of $x$ (ii) $Q_B / Q_{tot}$ as a function of $y$."
   ]
  },
  {
   "cell_type": "code",
   "execution_count": 12,
   "id": "952cfbd6",
   "metadata": {},
   "outputs": [
    {
     "data": {
      "text/plain": [
       "Text(0, 0.5, '$Q_B / Q_{tot}$')"
      ]
     },
     "execution_count": 12,
     "metadata": {},
     "output_type": "execute_result"
    },
    {
     "data": {
      "image/png": "[encoded data removed]",
      "text/plain": [
       "<Figure size 1000x400 with 2 Axes>"
      ]
     },
     "metadata": {},
     "output_type": "display_data"
    }
   ],
   "source": [
    "fig, axs = plt.subplots(1, 2, figsize=(10, 4))\n",
    "\n",
    "R = events.config['geometry']['radius']\n",
    "\n",
    "h1 = axs[0].hist2d(df['x'],df['q_lr'],bins=(100,100), range=((-R,R),(0,1)))\n",
    "axs[0].set_xlabel('$x_{true} (cm)$')\n",
    "axs[0].set_ylabel('$Q_L / Q_{tot}$')\n",
    "\n",
    "h2 = axs[1].hist2d(df['y'],df['q_tb'],bins=(100,100), range=((-R,R),(0,1)))\n",
    "axs[1].set_xlabel('$y_{true} (cm)$')\n",
    "axs[1].set_ylabel('$Q_B / Q_{tot}$')"
   ]
  },
  {
   "cell_type": "code",
   "execution_count": 13,
   "id": "d8a2a15a",
   "metadata": {},
   "outputs": [
    {
     "data": {
      "text/plain": [
       "Text(0, 0.5, '$Q_B$')"
      ]
     },
     "execution_count": 13,
     "metadata": {},
     "output_type": "execute_result"
    },
    {
     "data": {
      "image/png": "[encoded data removed]",
      "text/plain": [
       "<Figure size 1000x400 with 2 Axes>"
      ]
     },
     "metadata": {},
     "output_type": "display_data"
    }
   ],
   "source": [
    "fig, axs = plt.subplots(1, 2, figsize=(10, 4))\n",
    "\n",
    "R = events.config['geometry']['radius']\n",
    "\n",
    "h1 = axs[0].hist2d(df['x'],df['q_l'],bins=(100,100), range=((-R,R),(0,5000)))\n",
    "axs[0].set_xlabel('$x_{true} (cm)$')\n",
    "axs[0].set_ylabel('$Q_L$')\n",
    "\n",
    "h2 = axs[1].hist2d(df['y'],df['q_b'],bins=(100,100), range=((-R,R),(0,5000)))\n",
    "axs[1].set_xlabel('$y_{true} (cm)$')\n",
    "axs[1].set_ylabel('$Q_B$')"
   ]
  },
  {
   "cell_type": "markdown",
   "id": "bc650c7b",
   "metadata": {},
   "source": [
    ".... and also $Q_{tot}$ as a function of radius."
   ]
  },
  {
   "cell_type": "code",
   "execution_count": 18,
   "id": "cc671a30",
   "metadata": {},
   "outputs": [
    {
     "data": {
      "image/png": "[encoded data removed]",
      "text/plain": [
       "<Figure size 640x480 with 1 Axes>"
      ]
     },
     "metadata": {},
     "output_type": "display_data"
    }
   ],
   "source": [
    "\n",
    "R = events.config['geometry']['radius']\n",
    "\n",
    "r2 = np.sqrt(df['x']**2+df['y']**2)\n",
    "h=plt.hist2d(r2*r2,df['q_tot'],bins=100, range=((0,R),(0,100)))\n",
    "plt.xlabel('R (cm)')\n",
    "plt.ylabel('$Q_{tot}$')\n",
    "plt.show()"
   ]
  },
  {
   "cell_type": "code",
   "execution_count": null,
   "id": "dafd2937",
   "metadata": {},
   "outputs": [
    {
     "name": "stdout",
     "output_type": "stream",
     "text": [
      "['/data/xenon/optosim/data/mc0010/mc0010.0001.hdf5', '/data/xenon/optosim/data/mc0010/mc0010.0008.hdf5', '/data/xenon/optosim/data/mc0010/mc0010.0007.hdf5', '/data/xenon/optosim/data/mc0010/mc0010.0000.hdf5', '/data/xenon/optosim/data/mc0010/mc0010.0006.hdf5', '/data/xenon/optosim/data/mc0010/mc0010.0003.hdf5', '/data/xenon/optosim/data/mc0010/mc0010.0004.hdf5', '/data/xenon/optosim/data/mc0010/mc0010.0005.hdf5', '/data/xenon/optosim/data/mc0010/mc0010.0009.hdf5', '/data/xenon/optosim/data/mc0010/mc0010.0017.hdf5', '/data/xenon/optosim/data/mc0010/mc0010.0019.hdf5', '/data/xenon/optosim/data/mc0010/mc0010.0018.hdf5', '/data/xenon/optosim/data/mc0010/mc0010.0002.hdf5', '/data/xenon/optosim/data/mc0010/mc0010.0020.hdf5', '/data/xenon/optosim/data/mc0010/mc0010.0013.hdf5', '/data/xenon/optosim/data/mc0010/mc0010.0022.hdf5', '/data/xenon/optosim/data/mc0010/mc0010.0010.hdf5', '/data/xenon/optosim/data/mc0010/mc0010.0028.hdf5', '/data/xenon/optosim/data/mc0010/mc0010.0024.hdf5', '/data/xenon/optosim/data/mc0010/mc0010.0025.hdf5', '/data/xenon/optosim/data/mc0010/mc0010.0038.hdf5', '/data/xenon/optosim/data/mc0010/mc0010.0011.hdf5', '/data/xenon/optosim/data/mc0010/mc0010.0014.hdf5', '/data/xenon/optosim/data/mc0010/mc0010.0012.hdf5', '/data/xenon/optosim/data/mc0010/mc0010.0029.hdf5', '/data/xenon/optosim/data/mc0010/mc0010.0016.hdf5', '/data/xenon/optosim/data/mc0010/mc0010.0046.hdf5', '/data/xenon/optosim/data/mc0010/mc0010.0040.hdf5', '/data/xenon/optosim/data/mc0010/mc0010.0045.hdf5', '/data/xenon/optosim/data/mc0010/mc0010.0041.hdf5', '/data/xenon/optosim/data/mc0010/mc0010.0039.hdf5', '/data/xenon/optosim/data/mc0010/mc0010.0043.hdf5', '/data/xenon/optosim/data/mc0010/mc0010.0015.hdf5', '/data/xenon/optosim/data/mc0010/mc0010.0037.hdf5', '/data/xenon/optosim/data/mc0010/mc0010.0032.hdf5', '/data/xenon/optosim/data/mc0010/mc0010.0034.hdf5', '/data/xenon/optosim/data/mc0010/mc0010.0030.hdf5', '/data/xenon/optosim/data/mc0010/mc0010.0035.hdf5', '/data/xenon/optosim/data/mc0010/mc0010.0027.hdf5', '/data/xenon/optosim/data/mc0010/mc0010.0026.hdf5', '/data/xenon/optosim/data/mc0010/mc0010.0021.hdf5', '/data/xenon/optosim/data/mc0010/mc0010.0023.hdf5', '/data/xenon/optosim/data/mc0010/mc0010.0049.hdf5', '/data/xenon/optosim/data/mc0010/mc0010.0048.hdf5', '/data/xenon/optosim/data/mc0010/mc0010.0044.hdf5', '/data/xenon/optosim/data/mc0010/mc0010.0042.hdf5', '/data/xenon/optosim/data/mc0010/mc0010.0050.hdf5', '/data/xenon/optosim/data/mc0010/mc0010.0033.hdf5', '/data/xenon/optosim/data/mc0010/mc0010.0031.hdf5', '/data/xenon/optosim/data/mc0010/mc0010.0062.hdf5', '/data/xenon/optosim/data/mc0010/mc0010.0036.hdf5', '/data/xenon/optosim/data/mc0010/mc0010.0055.hdf5', '/data/xenon/optosim/data/mc0010/mc0010.0057.hdf5', '/data/xenon/optosim/data/mc0010/mc0010.0051.hdf5', '/data/xenon/optosim/data/mc0010/mc0010.0047.hdf5', '/data/xenon/optosim/data/mc0010/mc0010.0054.hdf5', '/data/xenon/optosim/data/mc0010/mc0010.0060.hdf5', '/data/xenon/optosim/data/mc0010/mc0010.0061.hdf5', '/data/xenon/optosim/data/mc0010/mc0010.0064.hdf5', '/data/xenon/optosim/data/mc0010/mc0010.0063.hdf5', '/data/xenon/optosim/data/mc0010/mc0010.0053.hdf5', '/data/xenon/optosim/data/mc0010/mc0010.0066.hdf5', '/data/xenon/optosim/data/mc0010/mc0010.0056.hdf5', '/data/xenon/optosim/data/mc0010/mc0010.0059.hdf5', '/data/xenon/optosim/data/mc0010/mc0010.0065.hdf5', '/data/xenon/optosim/data/mc0010/mc0010.0058.hdf5', '/data/xenon/optosim/data/mc0010/mc0010.0052.hdf5', '/data/xenon/optosim/data/mc0010/mc0010.0070.hdf5', '/data/xenon/optosim/data/mc0010/mc0010.0080.hdf5', '/data/xenon/optosim/data/mc0010/mc0010.0071.hdf5', '/data/xenon/optosim/data/mc0010/mc0010.0081.hdf5', '/data/xenon/optosim/data/mc0010/mc0010.0072.hdf5', '/data/xenon/optosim/data/mc0010/mc0010.0082.hdf5', '/data/xenon/optosim/data/mc0010/mc0010.0067.hdf5', '/data/xenon/optosim/data/mc0010/mc0010.0073.hdf5', '/data/xenon/optosim/data/mc0010/mc0010.0074.hdf5', '/data/xenon/optosim/data/mc0010/mc0010.0075.hdf5', '/data/xenon/optosim/data/mc0010/mc0010.0076.hdf5', '/data/xenon/optosim/data/mc0010/mc0010.0077.hdf5', '/data/xenon/optosim/data/mc0010/mc0010.0078.hdf5', '/data/xenon/optosim/data/mc0010/mc0010.0068.hdf5', '/data/xenon/optosim/data/mc0010/mc0010.0069.hdf5', '/data/xenon/optosim/data/mc0010/mc0010.0090.hdf5', '/data/xenon/optosim/data/mc0010/mc0010.0079.hdf5', '/data/xenon/optosim/data/mc0010/mc0010.0091.hdf5', '/data/xenon/optosim/data/mc0010/mc0010.0093.hdf5', '/data/xenon/optosim/data/mc0010/mc0010.0092.hdf5', '/data/xenon/optosim/data/mc0010/mc0010.0094.hdf5', '/data/xenon/optosim/data/mc0010/mc0010.0083.hdf5', '/data/xenon/optosim/data/mc0010/mc0010.0084.hdf5', '/data/xenon/optosim/data/mc0010/mc0010.0085.hdf5', '/data/xenon/optosim/data/mc0010/mc0010.0086.hdf5', '/data/xenon/optosim/data/mc0010/mc0010.0087.hdf5', '/data/xenon/optosim/data/mc0010/mc0010.0088.hdf5', '/data/xenon/optosim/data/mc0010/mc0010.0096.hdf5', '/data/xenon/optosim/data/mc0010/mc0010.0089.hdf5', '/data/xenon/optosim/data/mc0010/mc0010.0097.hdf5', '/data/xenon/optosim/data/mc0010/mc0010.0095.hdf5', '/data/xenon/optosim/data/mc0010/mc0010.0099.hdf5', '/data/xenon/optosim/data/mc0010/mc0010.0098.hdf5']\n",
      "(10000, 20, 20)\n",
      "[[0 1 0 0 0 0 1 0 2 0 1 1 2 0 0 0 0 0 0 0]\n",
      " [0 1 0 0 0 0 0 0 2 1 2 0 2 0 1 0 0 1 0 0]\n",
      " [1 0 2 1 2 2 0 0 0 0 0 0 1 0 2 1 1 1 0 0]\n",
      " [0 2 0 1 0 1 1 1 0 0 2 1 1 2 0 3 1 0 0 0]\n",
      " [1 1 1 0 0 2 0 0 0 0 0 0 3 0 2 0 2 3 1 0]\n",
      " [0 0 0 0 1 0 0 0 1 1 1 0 0 0 2 0 1 1 3 1]\n",
      " [2 2 0 0 1 1 1 1 1 0 0 1 0 0 0 0 2 1 0 1]\n",
      " [3 0 0 1 0 0 2 0 0 0 1 1 1 0 2 0 0 0 1 1]\n",
      " [1 0 0 0 0 0 0 1 0 0 0 1 0 0 0 0 0 1 0 0]\n",
      " [0 0 1 1 0 0 1 1 1 0 1 0 0 0 0 0 0 0 2 1]\n",
      " [1 0 0 0 1 1 1 0 1 1 1 0 0 0 2 0 0 0 0 0]\n",
      " [0 2 0 2 1 1 0 0 1 1 1 0 0 0 0 2 0 0 0 1]\n",
      " [2 0 0 1 1 2 1 1 0 2 0 0 0 1 0 2 0 0 1 1]\n",
      " [2 1 1 0 0 1 1 0 1 0 1 0 0 1 1 1 0 0 0 0]\n",
      " [0 3 1 0 1 1 2 0 1 0 1 0 1 1 1 0 0 0 1 0]\n",
      " [0 1 0 3 1 0 0 0 0 0 0 0 0 0 0 0 0 0 0 1]\n",
      " [0 0 0 1 2 2 0 1 1 0 0 0 0 1 1 1 0 0 1 0]\n",
      " [0 1 0 1 1 1 2 3 0 1 1 1 0 0 0 0 0 0 1 0]\n",
      " [0 0 0 1 0 0 2 1 3 2 2 1 0 0 0 0 1 0 0 0]\n",
      " [0 0 0 0 0 1 0 2 1 1 0 0 0 1 0 1 3 0 0 0]]\n"
     ]
    }
   ],
   "source": [
    "import numpy as np\n",
    "# I want to open the hdf5 files and read the data\n",
    "import h5py\n",
    "import matplotlib.pyplot as plt\n",
    "import glob\n",
    "from IPython.display import display, JSON, clear_output\n",
    "\n",
    "# this is the directory where the data is stored\n",
    "files = glob.glob('/data/xenon/optosim/data/mc0010/mc0010.*.hdf5')\n",
    "print(files)\n",
    "\n",
    "with h5py.File(files[0], 'r') as f:\n",
    "    config = f.attrs['config']\n",
    "\n",
    "    all_fine_bot = f['events/fine_bot'][:]\n",
    "\n",
    "print(all_fine_bot.shape)\n",
    "\n",
    "print(all_fine_bot[0])\n",
    "\n",
    "\n",
    "file = files[0]"
   ]
  },
  {
   "cell_type": "code",
   "execution_count": null,
   "id": "4b783d13",
   "metadata": {},
   "outputs": [
    {
     "name": "stdout",
     "output_type": "stream",
     "text": [
      "events: Group\n",
      "  fine_bot: Dataset\n",
      "  fine_top: Dataset\n",
      "  nphoton: Dataset\n",
      "  number: Dataset\n",
      "  pmt_bot: Dataset\n",
      "  pmt_top: Dataset\n",
      "  true_position: Dataset\n",
      "{\"detector\": \"XAMS\", \"nevents\": 10000, \"nphoton_per_event\": [100, 100000], \"photon_zgen\": 0.5, \"geometry\": {\"type\": \"cylinder\", \"radius\": 3.2, \"ztop\": 1.2, \"zliq\": 0.0, \"zbot\": -6.7, \"ptfe_zmin\": -5.32, \"ptfe_zmax\": -0.25}, \"npmt_xy\": 2, \"pmt\": {\"type\": \"square\", \"size\": 2.54, \"ndivs\": 10}, \"scatter\": true, \"experimental_scatter_model\": true, \"data_type_version\": 2.0}\n"
     ]
    }
   ],
   "source": [
    "import h5py\n",
    "\n",
    "def print_structure(file, indent=''):\n",
    "    for key, item in file.items():\n",
    "        if isinstance(item, h5py.Dataset):\n",
    "            print(indent + key + \": Dataset\")\n",
    "        elif isinstance(item, h5py.Group):\n",
    "            print(indent + key + \": Group\")\n",
    "            print_structure(item, indent + '  ')\n",
    "        print_attributes(item, indent + '  ')\n",
    "\n",
    "def print_attributes(item, indent):\n",
    "    attrs = item.attrs\n",
    "    for attr_name, attr_value in attrs.items():\n",
    "        print(indent + \"[Attribute] \" + attr_name + \":\", attr_value)\n",
    "\n",
    "filename = file\n",
    "with h5py.File(filename, 'r') as f:\n",
    "    print_structure(f)\n",
    "    print(f.attrs['config'])\n",
    "\n",
    "\n"
   ]
  },
  {
   "cell_type": "code",
   "execution_count": null,
   "id": "f65bc3ef",
   "metadata": {},
   "outputs": [
    {
     "data": {
      "text/plain": [
       "7"
      ]
     },
     "execution_count": 44,
     "metadata": {},
     "output_type": "execute_result"
    }
   ],
   "source": [
    "with h5py.File(file, 'r') as f:\n",
    "    group = f['events/']\n",
    "    data = {}\n",
    "    for name, dataset in group.items():\n",
    "        data[name] = np.array(dataset)\n",
    "\n",
    "len(data)"
   ]
  },
  {
   "cell_type": "code",
   "execution_count": null,
   "metadata": {},
   "outputs": [
    {
     "data": {
      "image/png": "[encoded data removed]",
      "text/plain": [
       "<Figure size 640x480 with 1 Axes>"
      ]
     },
     "metadata": {},
     "output_type": "display_data"
    }
   ],
   "source": [
    "h = plt.hist(data['nphoton'], bins=100, range=(0, 100000))\n",
    "plt.xlabel('nphoton')\n",
    "plt.yscale('log')"
   ]
  },
  {
   "cell_type": "code",
   "execution_count": null,
   "metadata": {},
   "outputs": [],
   "source": [
    "n =10\n",
    "event = {}\n",
    "for name, dataset in data.items():\n",
    "    if len(dataset) > n:  # Check if n-th entry exists\n",
    "        event[name] = dataset[n]\n",
    "    else:\n",
    "        event[name] = None  # or some default value if n-th entry doesn't exist\n"
   ]
  },
  {
   "cell_type": "code",
   "execution_count": null,
   "metadata": {},
   "outputs": [
    {
     "data": {
      "text/plain": [
       "array([[58, 52],\n",
       "       [78, 83]], dtype=int32)"
      ]
     },
     "execution_count": 61,
     "metadata": {},
     "output_type": "execute_result"
    }
   ],
   "source": [
    "event['pmt_bot']"
   ]
  },
  {
   "cell_type": "code",
   "execution_count": null,
   "metadata": {},
   "outputs": [],
   "source": [
    "import numpy as np\n",
    "import h5py\n",
    "\n",
    "class EventReader:\n",
    "    \n",
    "    def __init__(self, filenames):\n",
    "        self.data_dict = self._load_data(filenames)\n",
    "        self.num_events = len(next(iter(self.data_dict.values())))  # assuming all datasets have the same length\n",
    "        print(self.num_events)\n",
    "    \n",
    "    def _load_data(self, filenames):\n",
    "        data_dicts = []\n",
    "        \n",
    "        for filename in filenames:\n",
    "            with h5py.File(filename, 'r') as f:\n",
    "                group = f['events']\n",
    "                data_dict = {name: np.array(dataset) for name, dataset in group.items()}\n",
    "                data_dicts.append(data_dict)\n",
    "        \n",
    "        # Now, concatenate arrays from all dictionaries along the first axis (events)\n",
    "        # Start with the first dictionary and update it with concatenated arrays from other dictionaries\n",
    "        combined_data = data_dicts[0]\n",
    "        for key in combined_data.keys():\n",
    "            combined_data[key] = np.concatenate([d[key] for d in data_dicts], axis=0)\n",
    "        \n",
    "        return combined_data\n",
    "\n",
    "    def get_event(self, n):\n",
    "        if n >= self.num_events:\n",
    "            raise IndexError(\"Event index out of range\")\n",
    "        \n",
    "        return {name: dataset[n] for name, dataset in self.data_dict.items()}\n",
    "\n",
    "    # any other methods you need...\n",
    "\n"
   ]
  },
  {
   "cell_type": "code",
   "execution_count": null,
   "metadata": {},
   "outputs": [
    {
     "name": "stdout",
     "output_type": "stream",
     "text": [
      "1000000\n",
      "processed  0 events\n",
      "processed  10000 events\n",
      "processed  20000 events\n",
      "processed  30000 events\n",
      "processed  40000 events\n",
      "processed  50000 events\n",
      "processed  60000 events\n",
      "processed  70000 events\n",
      "processed  80000 events\n",
      "processed  90000 events\n",
      "processed  100000 events\n",
      "processed  110000 events\n",
      "processed  120000 events\n",
      "processed  130000 events\n",
      "processed  140000 events\n",
      "processed  150000 events\n",
      "processed  160000 events\n",
      "processed  170000 events\n",
      "processed  180000 events\n",
      "processed  190000 events\n",
      "processed  200000 events\n",
      "processed  210000 events\n",
      "processed  220000 events\n",
      "processed  230000 events\n",
      "processed  240000 events\n",
      "processed  250000 events\n",
      "processed  260000 events\n",
      "processed  270000 events\n",
      "processed  280000 events\n",
      "processed  290000 events\n",
      "processed  300000 events\n",
      "processed  310000 events\n",
      "processed  320000 events\n",
      "processed  330000 events\n",
      "processed  340000 events\n",
      "processed  350000 events\n",
      "processed  360000 events\n",
      "processed  370000 events\n",
      "processed  380000 events\n",
      "processed  390000 events\n",
      "processed  400000 events\n",
      "processed  410000 events\n",
      "processed  420000 events\n",
      "processed  430000 events\n",
      "processed  440000 events\n",
      "processed  450000 events\n",
      "processed  460000 events\n",
      "processed  470000 events\n",
      "processed  480000 events\n",
      "processed  490000 events\n",
      "processed  500000 events\n",
      "processed  510000 events\n",
      "processed  520000 events\n",
      "processed  530000 events\n",
      "processed  540000 events\n",
      "processed  550000 events\n",
      "processed  560000 events\n",
      "processed  570000 events\n",
      "processed  580000 events\n",
      "processed  590000 events\n",
      "processed  600000 events\n",
      "processed  610000 events\n",
      "processed  620000 events\n",
      "processed  630000 events\n",
      "processed  640000 events\n",
      "processed  650000 events\n",
      "processed  660000 events\n",
      "processed  670000 events\n",
      "processed  680000 events\n",
      "processed  690000 events\n",
      "processed  700000 events\n",
      "processed  710000 events\n",
      "processed  720000 events\n",
      "processed  730000 events\n",
      "processed  740000 events\n",
      "processed  750000 events\n",
      "processed  760000 events\n",
      "processed  770000 events\n",
      "processed  780000 events\n",
      "processed  790000 events\n",
      "processed  800000 events\n",
      "processed  810000 events\n",
      "processed  820000 events\n",
      "processed  830000 events\n",
      "processed  840000 events\n",
      "processed  850000 events\n",
      "processed  860000 events\n",
      "processed  870000 events\n",
      "processed  880000 events\n",
      "processed  890000 events\n",
      "processed  900000 events\n",
      "processed  910000 events\n",
      "processed  920000 events\n",
      "processed  930000 events\n",
      "processed  940000 events\n",
      "processed  950000 events\n",
      "processed  960000 events\n",
      "processed  970000 events\n",
      "processed  980000 events\n",
      "processed  990000 events\n"
     ]
    }
   ],
   "source": [
    "er = EventReader(files)\n",
    "for i in range(er.num_events):\n",
    "    if i%10000 == 0:\n",
    "        print('processed ',i,'events')\n",
    "    event = er.get_event(i)\n"
   ]
  },
  {
   "cell_type": "code",
   "execution_count": null,
   "metadata": {},
   "outputs": [
    {
     "data": {
      "text/plain": [
       "[]"
      ]
     },
     "execution_count": 71,
     "metadata": {},
     "output_type": "execute_result"
    }
   ],
   "source": [
    "data"
   ]
  },
  {
   "cell_type": "code",
   "execution_count": null,
   "metadata": {},
   "outputs": [],
   "source": []
  }
 ],
 "metadata": {
  "kernelspec": {
   "display_name": "Python 3 (ipykernel)",
   "language": "python",
   "name": "python3"
  },
  "language_info": {
   "codemirror_mode": {
    "name": "ipython",
    "version": 3
   },
   "file_extension": ".py",
   "mimetype": "text/x-python",
   "name": "python",
   "nbconvert_exporter": "python",
   "pygments_lexer": "ipython3",
   "version": "3.11.5"
  }
 },
 "nbformat": 4,
 "nbformat_minor": 5
}
