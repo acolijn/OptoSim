{
 "cells": [
  {
   "cell_type": "code",
   "execution_count": null,
   "id": "d7e99f82",
   "metadata": {},
   "outputs": [],
   "source": [
    "import h5py"
   ]
  },
  {
   "cell_type": "markdown",
   "id": "4d6f1558",
   "metadata": {},
   "source": [
    "#### Change a field in the attributes of an hd5 file"
   ]
  },
  {
   "cell_type": "code",
   "execution_count": null,
   "id": "4a6bcb0d",
   "metadata": {},
   "outputs": [],
   "source": [
    "filename='/data/xenon/acolijn/optosim/data/mc0005/mc0005.0000.hd5f'\n",
    "\n",
    "filename='xxxxxx' # just for safety\n",
    "with h5py.File(filename, 'r+') as f:\n",
    "    config_str = f.attrs['config']\n",
    "    config_dict = json.loads(config_str)  # Parse the string to get a dictionary\n",
    "    config_dict['detector'] = 'XAMS'\n",
    "    modified_config_str = json.dumps(config_dict)  # Convert the modified dictionary back to a string\n",
    "    f.attrs['config'] = modified_config_str\n"
   ]
  },
  {
   "cell_type": "code",
   "execution_count": null,
   "id": "f50b9de9",
   "metadata": {},
   "outputs": [],
   "source": []
  }
 ],
 "metadata": {
  "kernelspec": {
   "display_name": "Python 3 (ipykernel)",
   "language": "python",
   "name": "python3"
  },
  "language_info": {
   "codemirror_mode": {
    "name": "ipython",
    "version": 3
   },
   "file_extension": ".py",
   "mimetype": "text/x-python",
   "name": "python",
   "nbconvert_exporter": "python",
   "pygments_lexer": "ipython3",
   "version": "3.11.5"
  }
 },
 "nbformat": 4,
 "nbformat_minor": 5
}
