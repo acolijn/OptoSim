{
 "cells": [
  {
   "cell_type": "code",
   "execution_count": 4,
   "id": "29af9d8d",
   "metadata": {},
   "outputs": [],
   "source": [
    "import numpy as np"
   ]
  },
  {
   "cell_type": "code",
   "execution_count": 5,
   "id": "26ecfa05",
   "metadata": {},
   "outputs": [],
   "source": [
    "nvec = np.array([-0.60418, 0.79684, 0])"
   ]
  },
  {
   "cell_type": "code",
   "execution_count": 6,
   "id": "65f9b38f",
   "metadata": {},
   "outputs": [],
   "source": [
    "t0 = np.array([-0.24128501, -0.42430658, -0.87278031])"
   ]
  },
  {
   "cell_type": "code",
   "execution_count": 7,
   "id": "75dddc88",
   "metadata": {},
   "outputs": [],
   "source": [
    "t1 = np.array([-0.47368418, -0.11780416, -0.87278031 ])"
   ]
  },
  {
   "cell_type": "code",
   "execution_count": 8,
   "id": "1642cb3b",
   "metadata": {},
   "outputs": [
    {
     "data": {
      "text/plain": [
       "1.7643270317686286"
      ]
     },
     "execution_count": 8,
     "metadata": {},
     "output_type": "execute_result"
    }
   ],
   "source": [
    "np.arccos(np.dot(nvec,t0))"
   ]
  },
  {
   "cell_type": "code",
   "execution_count": 9,
   "id": "15b583a3",
   "metadata": {},
   "outputs": [
    {
     "data": {
      "text/plain": [
       "1.7643214914945242"
      ]
     },
     "execution_count": 9,
     "metadata": {},
     "output_type": "execute_result"
    }
   ],
   "source": [
    "np.pi - np.arccos(np.dot(nvec,t1))"
   ]
  },
  {
   "cell_type": "code",
   "execution_count": 10,
   "id": "1fce9c6c",
   "metadata": {},
   "outputs": [],
   "source": [
    "import numpy as np\n",
    "import matplotlib.pyplot as plt\n",
    "\n",
    "def generate_random_unit_vector_lambertian(n):\n",
    "    # Generate a random azimuthal angle phi\n",
    "    phi = 2 * np.pi * np.random.rand()\n",
    "\n",
    "    # Generate a random cos(theta) value following Lambert's cosine law\n",
    "    theta = np.arcsin(np.random.uniform(0, 1)) \n",
    "    cos_theta = np.cos(theta)\n",
    "\n",
    "    # Calculate the new unit vector based on spherical coordinates\n",
    "    sin_theta = np.sin(theta)\n",
    "    x = sin_theta * np.cos(phi)\n",
    "    y = sin_theta * np.sin(phi)\n",
    "    z = cos_theta\n",
    "\n",
    "    # Calculate the transformation matrix to rotate the vector onto n\n",
    "    rotation_matrix = rotation_matrix_from_z_to_n(n)\n",
    "\n",
    "    # Rotate the vector onto n\n",
    "    new_unit_vector = np.dot(rotation_matrix, np.array([x, y, z]))\n",
    "\n",
    "    return new_unit_vector\n",
    "\n",
    "def rotation_matrix_from_z_to_n(n):\n",
    "    # Ensure n is a unit vector\n",
    "    n = n / np.linalg.norm(n)\n",
    "\n",
    "    # Calculate the rotation axis and angle\n",
    "    rotation_axis = np.cross([0, 0, 1], n)\n",
    "    rotation_angle = np.arccos(np.dot([0, 0, 1], n))\n",
    "\n",
    "    # Calculate the rotation matrix using Rodrigues' formula\n",
    "    K = np.array([[0, -rotation_axis[2], rotation_axis[1]],\n",
    "                  [rotation_axis[2], 0, -rotation_axis[0]],\n",
    "                  [-rotation_axis[1], rotation_axis[0], 0]])\n",
    "\n",
    "    rotation_matrix = np.eye(3) + np.sin(rotation_angle) * K + (1 - np.cos(rotation_angle)) * np.dot(K, K)\n",
    "\n",
    "    return rotation_matrix"
   ]
  },
  {
   "cell_type": "code",
   "execution_count": 11,
   "id": "2b3a25e2",
   "metadata": {},
   "outputs": [],
   "source": [
    "nvec = np.array([0,0,1])  # Example unit vector (normalized)\n",
    "n = 10000\n",
    "\n",
    "cost = np.zeros(n)\n",
    "\n",
    "for i in range(n):\n",
    "    new_unit_vector = generate_random_unit_vector_lambertian(nvec)\n",
    "    \n",
    "    cost[i] = np.dot(nvec,new_unit_vector)"
   ]
  },
  {
   "cell_type": "code",
   "execution_count": 12,
   "id": "ef334083",
   "metadata": {},
   "outputs": [
    {
     "data": {
      "image/png": "[encoded data removed]",
      "text/plain": [
       "<Figure size 640x480 with 1 Axes>"
      ]
     },
     "metadata": {},
     "output_type": "display_data"
    }
   ],
   "source": [
    "h=plt.hist(np.arccos(cost), bins=20)"
   ]
  },
  {
   "cell_type": "code",
   "execution_count": null,
   "id": "50b2e6f3",
   "metadata": {},
   "outputs": [],
   "source": [
    "\n",
    "\n"
   ]
  },
  {
   "cell_type": "code",
   "execution_count": 13,
   "id": "a5dc0737",
   "metadata": {},
   "outputs": [
    {
     "data": {
      "text/plain": [
       "0.625"
      ]
     },
     "execution_count": 13,
     "metadata": {},
     "output_type": "execute_result"
    }
   ],
   "source": [
    "1/1.6\n"
   ]
  },
  {
   "cell_type": "code",
   "execution_count": null,
   "id": "db10c1ca",
   "metadata": {},
   "outputs": [],
   "source": []
  },
  {
   "cell_type": "code",
   "execution_count": null,
   "id": "48792d10",
   "metadata": {},
   "outputs": [],
   "source": []
  }
 ],
 "metadata": {
  "kernelspec": {
   "display_name": "Python 3 (ipykernel)",
   "language": "python",
   "name": "python3"
  },
  "language_info": {
   "codemirror_mode": {
    "name": "ipython",
    "version": 3
   },
   "file_extension": ".py",
   "mimetype": "text/x-python",
   "name": "python",
   "nbconvert_exporter": "python",
   "pygments_lexer": "ipython3",
   "version": "3.9.18"
  }
 },
 "nbformat": 4,
 "nbformat_minor": 5
}
